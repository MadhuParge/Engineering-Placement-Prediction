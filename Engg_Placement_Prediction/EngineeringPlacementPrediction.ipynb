{
 "cells": [
  {
   "cell_type": "markdown",
   "id": "aa614aaf",
   "metadata": {},
   "source": [
    "# Import Dependencies/ Necessary Libraries"
   ]
  },
  {
   "cell_type": "code",
   "execution_count": 1,
   "id": "34778a67",
   "metadata": {},
   "outputs": [],
   "source": [
    "import pandas as pd\n",
    "import numpy as np\n",
    "import matplotlib.pyplot as plt\n",
    "import seaborn as sns\n",
    "\n",
    "import warnings\n",
    "warnings.filterwarnings(\"ignore\")"
   ]
  },
  {
   "cell_type": "markdown",
   "id": "6a9a06a7",
   "metadata": {},
   "source": [
    "# Import Dataset"
   ]
  },
  {
   "cell_type": "code",
   "execution_count": 2,
   "id": "ddabc3b6",
   "metadata": {},
   "outputs": [
    {
     "data": {
      "text/html": [
       "<div>\n",
       "<style scoped>\n",
       "    .dataframe tbody tr th:only-of-type {\n",
       "        vertical-align: middle;\n",
       "    }\n",
       "\n",
       "    .dataframe tbody tr th {\n",
       "        vertical-align: top;\n",
       "    }\n",
       "\n",
       "    .dataframe thead th {\n",
       "        text-align: right;\n",
       "    }\n",
       "</style>\n",
       "<table border=\"1\" class=\"dataframe\">\n",
       "  <thead>\n",
       "    <tr style=\"text-align: right;\">\n",
       "      <th></th>\n",
       "      <th>Age</th>\n",
       "      <th>Gender</th>\n",
       "      <th>Stream</th>\n",
       "      <th>Internships</th>\n",
       "      <th>CGPA</th>\n",
       "      <th>Hostel</th>\n",
       "      <th>HistoryOfBacklogs</th>\n",
       "      <th>PlacedOrNot</th>\n",
       "    </tr>\n",
       "  </thead>\n",
       "  <tbody>\n",
       "    <tr>\n",
       "      <th>0</th>\n",
       "      <td>22</td>\n",
       "      <td>Male</td>\n",
       "      <td>Electronics And Communication</td>\n",
       "      <td>1</td>\n",
       "      <td>8</td>\n",
       "      <td>1</td>\n",
       "      <td>1</td>\n",
       "      <td>1</td>\n",
       "    </tr>\n",
       "    <tr>\n",
       "      <th>1</th>\n",
       "      <td>21</td>\n",
       "      <td>Female</td>\n",
       "      <td>Computer Science</td>\n",
       "      <td>0</td>\n",
       "      <td>7</td>\n",
       "      <td>1</td>\n",
       "      <td>1</td>\n",
       "      <td>1</td>\n",
       "    </tr>\n",
       "    <tr>\n",
       "      <th>2</th>\n",
       "      <td>22</td>\n",
       "      <td>Female</td>\n",
       "      <td>Information Technology</td>\n",
       "      <td>1</td>\n",
       "      <td>6</td>\n",
       "      <td>0</td>\n",
       "      <td>0</td>\n",
       "      <td>1</td>\n",
       "    </tr>\n",
       "    <tr>\n",
       "      <th>3</th>\n",
       "      <td>21</td>\n",
       "      <td>Male</td>\n",
       "      <td>Information Technology</td>\n",
       "      <td>0</td>\n",
       "      <td>8</td>\n",
       "      <td>0</td>\n",
       "      <td>1</td>\n",
       "      <td>1</td>\n",
       "    </tr>\n",
       "    <tr>\n",
       "      <th>4</th>\n",
       "      <td>22</td>\n",
       "      <td>Male</td>\n",
       "      <td>Mechanical</td>\n",
       "      <td>0</td>\n",
       "      <td>8</td>\n",
       "      <td>1</td>\n",
       "      <td>0</td>\n",
       "      <td>1</td>\n",
       "    </tr>\n",
       "  </tbody>\n",
       "</table>\n",
       "</div>"
      ],
      "text/plain": [
       "   Age  Gender                         Stream  Internships  CGPA  Hostel  \\\n",
       "0   22    Male  Electronics And Communication            1     8       1   \n",
       "1   21  Female               Computer Science            0     7       1   \n",
       "2   22  Female         Information Technology            1     6       0   \n",
       "3   21    Male         Information Technology            0     8       0   \n",
       "4   22    Male                     Mechanical            0     8       1   \n",
       "\n",
       "   HistoryOfBacklogs  PlacedOrNot  \n",
       "0                  1            1  \n",
       "1                  1            1  \n",
       "2                  0            1  \n",
       "3                  1            1  \n",
       "4                  0            1  "
      ]
     },
     "execution_count": 2,
     "metadata": {},
     "output_type": "execute_result"
    }
   ],
   "source": [
    "df = pd.read_csv(\"collegePlace.csv\")\n",
    "df.head()"
   ]
  },
  {
   "cell_type": "markdown",
   "id": "a98b6337",
   "metadata": {},
   "source": [
    "# EDA"
   ]
  },
  {
   "cell_type": "code",
   "execution_count": 3,
   "id": "2ee4f032",
   "metadata": {},
   "outputs": [
    {
     "name": "stdout",
     "output_type": "stream",
     "text": [
      "<class 'pandas.core.frame.DataFrame'>\n",
      "RangeIndex: 2966 entries, 0 to 2965\n",
      "Data columns (total 8 columns):\n",
      " #   Column             Non-Null Count  Dtype \n",
      "---  ------             --------------  ----- \n",
      " 0   Age                2966 non-null   int64 \n",
      " 1   Gender             2966 non-null   object\n",
      " 2   Stream             2966 non-null   object\n",
      " 3   Internships        2966 non-null   int64 \n",
      " 4   CGPA               2966 non-null   int64 \n",
      " 5   Hostel             2966 non-null   int64 \n",
      " 6   HistoryOfBacklogs  2966 non-null   int64 \n",
      " 7   PlacedOrNot        2966 non-null   int64 \n",
      "dtypes: int64(6), object(2)\n",
      "memory usage: 185.5+ KB\n"
     ]
    }
   ],
   "source": [
    "df.info()"
   ]
  },
  {
   "cell_type": "markdown",
   "id": "f88ad729",
   "metadata": {},
   "source": [
    "- The given dataset is consist of 8 columns & 2966 rows.\n",
    "- 6 out of 8 columns are numeric in nature whereas 2 are categorical.\n",
    "- All columns shows that there is no null value."
   ]
  },
  {
   "cell_type": "code",
   "execution_count": 4,
   "id": "4c9e0b23",
   "metadata": {},
   "outputs": [
    {
     "data": {
      "text/plain": [
       "Age                  0\n",
       "Gender               0\n",
       "Stream               0\n",
       "Internships          0\n",
       "CGPA                 0\n",
       "Hostel               0\n",
       "HistoryOfBacklogs    0\n",
       "PlacedOrNot          0\n",
       "dtype: int64"
      ]
     },
     "execution_count": 4,
     "metadata": {},
     "output_type": "execute_result"
    }
   ],
   "source": [
    "df.isnull().sum()"
   ]
  },
  {
   "cell_type": "code",
   "execution_count": 5,
   "id": "5b20bf8c",
   "metadata": {},
   "outputs": [
    {
     "data": {
      "text/html": [
       "<div>\n",
       "<style scoped>\n",
       "    .dataframe tbody tr th:only-of-type {\n",
       "        vertical-align: middle;\n",
       "    }\n",
       "\n",
       "    .dataframe tbody tr th {\n",
       "        vertical-align: top;\n",
       "    }\n",
       "\n",
       "    .dataframe thead th {\n",
       "        text-align: right;\n",
       "    }\n",
       "</style>\n",
       "<table border=\"1\" class=\"dataframe\">\n",
       "  <thead>\n",
       "    <tr style=\"text-align: right;\">\n",
       "      <th></th>\n",
       "      <th>Age</th>\n",
       "      <th>Internships</th>\n",
       "      <th>CGPA</th>\n",
       "      <th>Hostel</th>\n",
       "      <th>HistoryOfBacklogs</th>\n",
       "      <th>PlacedOrNot</th>\n",
       "    </tr>\n",
       "  </thead>\n",
       "  <tbody>\n",
       "    <tr>\n",
       "      <th>count</th>\n",
       "      <td>2966.000000</td>\n",
       "      <td>2966.000000</td>\n",
       "      <td>2966.000000</td>\n",
       "      <td>2966.000000</td>\n",
       "      <td>2966.000000</td>\n",
       "      <td>2966.000000</td>\n",
       "    </tr>\n",
       "    <tr>\n",
       "      <th>mean</th>\n",
       "      <td>21.485840</td>\n",
       "      <td>0.703641</td>\n",
       "      <td>7.073837</td>\n",
       "      <td>0.269049</td>\n",
       "      <td>0.192178</td>\n",
       "      <td>0.552596</td>\n",
       "    </tr>\n",
       "    <tr>\n",
       "      <th>std</th>\n",
       "      <td>1.324933</td>\n",
       "      <td>0.740197</td>\n",
       "      <td>0.967748</td>\n",
       "      <td>0.443540</td>\n",
       "      <td>0.394079</td>\n",
       "      <td>0.497310</td>\n",
       "    </tr>\n",
       "    <tr>\n",
       "      <th>min</th>\n",
       "      <td>19.000000</td>\n",
       "      <td>0.000000</td>\n",
       "      <td>5.000000</td>\n",
       "      <td>0.000000</td>\n",
       "      <td>0.000000</td>\n",
       "      <td>0.000000</td>\n",
       "    </tr>\n",
       "    <tr>\n",
       "      <th>25%</th>\n",
       "      <td>21.000000</td>\n",
       "      <td>0.000000</td>\n",
       "      <td>6.000000</td>\n",
       "      <td>0.000000</td>\n",
       "      <td>0.000000</td>\n",
       "      <td>0.000000</td>\n",
       "    </tr>\n",
       "    <tr>\n",
       "      <th>50%</th>\n",
       "      <td>21.000000</td>\n",
       "      <td>1.000000</td>\n",
       "      <td>7.000000</td>\n",
       "      <td>0.000000</td>\n",
       "      <td>0.000000</td>\n",
       "      <td>1.000000</td>\n",
       "    </tr>\n",
       "    <tr>\n",
       "      <th>75%</th>\n",
       "      <td>22.000000</td>\n",
       "      <td>1.000000</td>\n",
       "      <td>8.000000</td>\n",
       "      <td>1.000000</td>\n",
       "      <td>0.000000</td>\n",
       "      <td>1.000000</td>\n",
       "    </tr>\n",
       "    <tr>\n",
       "      <th>max</th>\n",
       "      <td>30.000000</td>\n",
       "      <td>3.000000</td>\n",
       "      <td>9.000000</td>\n",
       "      <td>1.000000</td>\n",
       "      <td>1.000000</td>\n",
       "      <td>1.000000</td>\n",
       "    </tr>\n",
       "  </tbody>\n",
       "</table>\n",
       "</div>"
      ],
      "text/plain": [
       "               Age  Internships         CGPA       Hostel  HistoryOfBacklogs  \\\n",
       "count  2966.000000  2966.000000  2966.000000  2966.000000        2966.000000   \n",
       "mean     21.485840     0.703641     7.073837     0.269049           0.192178   \n",
       "std       1.324933     0.740197     0.967748     0.443540           0.394079   \n",
       "min      19.000000     0.000000     5.000000     0.000000           0.000000   \n",
       "25%      21.000000     0.000000     6.000000     0.000000           0.000000   \n",
       "50%      21.000000     1.000000     7.000000     0.000000           0.000000   \n",
       "75%      22.000000     1.000000     8.000000     1.000000           0.000000   \n",
       "max      30.000000     3.000000     9.000000     1.000000           1.000000   \n",
       "\n",
       "       PlacedOrNot  \n",
       "count  2966.000000  \n",
       "mean      0.552596  \n",
       "std       0.497310  \n",
       "min       0.000000  \n",
       "25%       0.000000  \n",
       "50%       1.000000  \n",
       "75%       1.000000  \n",
       "max       1.000000  "
      ]
     },
     "execution_count": 5,
     "metadata": {},
     "output_type": "execute_result"
    }
   ],
   "source": [
    "df.describe()"
   ]
  },
  {
   "cell_type": "markdown",
   "id": "c8258511",
   "metadata": {},
   "source": [
    "- The age range of students is normally distributed, where the avg. age of student is 21 years and 4 months, minimum age is 19 and the maximum is 30.\n",
    "- Avg. age gap between the student is 1 year 3 months. \n",
    "- 68% students age falls within the range of 20.16 years to 22.8 years.\n",
    "- By looking at the mean age and the max. age we can say that there are outliers present in the column.\n",
    "- CGPA is also symmetrically skewed from which we can conclude that the CGPA is evenly distributed around 7.\n",
    "- 50% student has less than 7 or 7 CGPA whereas 50% student has CGPA greater than 7."
   ]
  },
  {
   "cell_type": "code",
   "execution_count": 6,
   "id": "f76d65b1",
   "metadata": {},
   "outputs": [
    {
     "data": {
      "text/plain": [
       "<seaborn.axisgrid.PairGrid at 0x24ed021d370>"
      ]
     },
     "execution_count": 6,
     "metadata": {},
     "output_type": "execute_result"
    },
    {
     "data": {
      "image/png": "[encoded data removed]",
      "text/plain": [
       "<Figure size 970.25x900 with 30 Axes>"
      ]
     },
     "metadata": {
      "needs_background": "light"
     },
     "output_type": "display_data"
    }
   ],
   "source": [
    "sns.pairplot(data=df, hue=\"PlacedOrNot\")"
   ]
  },
  {
   "cell_type": "code",
   "execution_count": 7,
   "id": "6d2bf52d",
   "metadata": {},
   "outputs": [
    {
     "data": {
      "text/plain": [
       "<AxesSubplot:>"
      ]
     },
     "execution_count": 7,
     "metadata": {},
     "output_type": "execute_result"
    },
    {
     "data": {
      "image/png": "[encoded data removed]",
      "text/plain": [
       "<Figure size 432x288 with 2 Axes>"
      ]
     },
     "metadata": {
      "needs_background": "light"
     },
     "output_type": "display_data"
    }
   ],
   "source": [
    "sns.heatmap(df.corr(), cmap=\"viridis\", annot=True)"
   ]
  },
  {
   "cell_type": "code",
   "execution_count": 8,
   "id": "599ae311",
   "metadata": {},
   "outputs": [
    {
     "data": {
      "text/html": [
       "<style type=\"text/css\">\n",
       "#T_4a792_row0_col0, #T_4a792_row1_col1, #T_4a792_row2_col2, #T_4a792_row3_col3, #T_4a792_row4_col4, #T_4a792_row5_col5 {\n",
       "  background-color: #023858;\n",
       "  color: #f1f1f1;\n",
       "}\n",
       "#T_4a792_row0_col1 {\n",
       "  background-color: #fcf4fa;\n",
       "  color: #000000;\n",
       "}\n",
       "#T_4a792_row0_col2, #T_4a792_row0_col4, #T_4a792_row2_col0, #T_4a792_row3_col5, #T_4a792_row4_col1, #T_4a792_row5_col3 {\n",
       "  background-color: #fff7fb;\n",
       "  color: #000000;\n",
       "}\n",
       "#T_4a792_row0_col3, #T_4a792_row1_col3 {\n",
       "  background-color: #f9f2f8;\n",
       "  color: #000000;\n",
       "}\n",
       "#T_4a792_row0_col5 {\n",
       "  background-color: #f3edf5;\n",
       "  color: #000000;\n",
       "}\n",
       "#T_4a792_row1_col0, #T_4a792_row3_col0 {\n",
       "  background-color: #eee9f3;\n",
       "  color: #000000;\n",
       "}\n",
       "#T_4a792_row1_col2 {\n",
       "  background-color: #ece7f2;\n",
       "  color: #000000;\n",
       "}\n",
       "#T_4a792_row1_col4 {\n",
       "  background-color: #fbf4f9;\n",
       "  color: #000000;\n",
       "}\n",
       "#T_4a792_row1_col5 {\n",
       "  background-color: #d9d8ea;\n",
       "  color: #000000;\n",
       "}\n",
       "#T_4a792_row2_col1 {\n",
       "  background-color: #faf2f8;\n",
       "  color: #000000;\n",
       "}\n",
       "#T_4a792_row2_col3 {\n",
       "  background-color: #f7f0f7;\n",
       "  color: #000000;\n",
       "}\n",
       "#T_4a792_row2_col4 {\n",
       "  background-color: #f8f1f8;\n",
       "  color: #000000;\n",
       "}\n",
       "#T_4a792_row2_col5 {\n",
       "  background-color: #4094c3;\n",
       "  color: #f1f1f1;\n",
       "}\n",
       "#T_4a792_row3_col1, #T_4a792_row4_col5, #T_4a792_row5_col4 {\n",
       "  background-color: #fdf5fa;\n",
       "  color: #000000;\n",
       "}\n",
       "#T_4a792_row3_col2 {\n",
       "  background-color: #ede8f3;\n",
       "  color: #000000;\n",
       "}\n",
       "#T_4a792_row3_col4 {\n",
       "  background-color: #e9e5f1;\n",
       "  color: #000000;\n",
       "}\n",
       "#T_4a792_row4_col0 {\n",
       "  background-color: #f5eef6;\n",
       "  color: #000000;\n",
       "}\n",
       "#T_4a792_row4_col2 {\n",
       "  background-color: #efe9f3;\n",
       "  color: #000000;\n",
       "}\n",
       "#T_4a792_row4_col3 {\n",
       "  background-color: #eae6f1;\n",
       "  color: #000000;\n",
       "}\n",
       "#T_4a792_row5_col0 {\n",
       "  background-color: #e7e3f0;\n",
       "  color: #000000;\n",
       "}\n",
       "#T_4a792_row5_col1 {\n",
       "  background-color: #dddbec;\n",
       "  color: #000000;\n",
       "}\n",
       "#T_4a792_row5_col2 {\n",
       "  background-color: #348ebf;\n",
       "  color: #f1f1f1;\n",
       "}\n",
       "</style>\n",
       "<table id=\"T_4a792_\">\n",
       "  <thead>\n",
       "    <tr>\n",
       "      <th class=\"blank level0\" >&nbsp;</th>\n",
       "      <th class=\"col_heading level0 col0\" >Age</th>\n",
       "      <th class=\"col_heading level0 col1\" >Internships</th>\n",
       "      <th class=\"col_heading level0 col2\" >CGPA</th>\n",
       "      <th class=\"col_heading level0 col3\" >Hostel</th>\n",
       "      <th class=\"col_heading level0 col4\" >HistoryOfBacklogs</th>\n",
       "      <th class=\"col_heading level0 col5\" >PlacedOrNot</th>\n",
       "    </tr>\n",
       "  </thead>\n",
       "  <tbody>\n",
       "    <tr>\n",
       "      <th id=\"T_4a792_level0_row0\" class=\"row_heading level0 row0\" >Age</th>\n",
       "      <td id=\"T_4a792_row0_col0\" class=\"data row0 col0\" >1.000000</td>\n",
       "      <td id=\"T_4a792_row0_col1\" class=\"data row0 col1\" >0.006552</td>\n",
       "      <td id=\"T_4a792_row0_col2\" class=\"data row0 col2\" >-0.119787</td>\n",
       "      <td id=\"T_4a792_row0_col3\" class=\"data row0 col3\" >0.003042</td>\n",
       "      <td id=\"T_4a792_row0_col4\" class=\"data row0 col4\" >-0.042586</td>\n",
       "      <td id=\"T_4a792_row0_col5\" class=\"data row0 col5\" >0.046943</td>\n",
       "    </tr>\n",
       "    <tr>\n",
       "      <th id=\"T_4a792_level0_row1\" class=\"row_heading level0 row1\" >Internships</th>\n",
       "      <td id=\"T_4a792_row1_col0\" class=\"data row1 col0\" >0.006552</td>\n",
       "      <td id=\"T_4a792_row1_col1\" class=\"data row1 col1\" >1.000000</td>\n",
       "      <td id=\"T_4a792_row1_col2\" class=\"data row1 col2\" >0.023496</td>\n",
       "      <td id=\"T_4a792_row1_col3\" class=\"data row1 col3\" >0.004617</td>\n",
       "      <td id=\"T_4a792_row1_col4\" class=\"data row1 col4\" >-0.015118</td>\n",
       "      <td id=\"T_4a792_row1_col5\" class=\"data row1 col5\" >0.179334</td>\n",
       "    </tr>\n",
       "    <tr>\n",
       "      <th id=\"T_4a792_level0_row2\" class=\"row_heading level0 row2\" >CGPA</th>\n",
       "      <td id=\"T_4a792_row2_col0\" class=\"data row2 col0\" >-0.119787</td>\n",
       "      <td id=\"T_4a792_row2_col1\" class=\"data row2 col1\" >0.023496</td>\n",
       "      <td id=\"T_4a792_row2_col2\" class=\"data row2 col2\" >1.000000</td>\n",
       "      <td id=\"T_4a792_row2_col3\" class=\"data row2 col3\" >0.014991</td>\n",
       "      <td id=\"T_4a792_row2_col4\" class=\"data row2 col4\" >0.002576</td>\n",
       "      <td id=\"T_4a792_row2_col5\" class=\"data row2 col5\" >0.588648</td>\n",
       "    </tr>\n",
       "    <tr>\n",
       "      <th id=\"T_4a792_level0_row3\" class=\"row_heading level0 row3\" >Hostel</th>\n",
       "      <td id=\"T_4a792_row3_col0\" class=\"data row3 col0\" >0.003042</td>\n",
       "      <td id=\"T_4a792_row3_col1\" class=\"data row3 col1\" >0.004617</td>\n",
       "      <td id=\"T_4a792_row3_col2\" class=\"data row3 col2\" >0.014991</td>\n",
       "      <td id=\"T_4a792_row3_col3\" class=\"data row3 col3\" >1.000000</td>\n",
       "      <td id=\"T_4a792_row3_col4\" class=\"data row3 col4\" >0.103506</td>\n",
       "      <td id=\"T_4a792_row3_col5\" class=\"data row3 col5\" >-0.038182</td>\n",
       "    </tr>\n",
       "    <tr>\n",
       "      <th id=\"T_4a792_level0_row4\" class=\"row_heading level0 row4\" >HistoryOfBacklogs</th>\n",
       "      <td id=\"T_4a792_row4_col0\" class=\"data row4 col0\" >-0.042586</td>\n",
       "      <td id=\"T_4a792_row4_col1\" class=\"data row4 col1\" >-0.015118</td>\n",
       "      <td id=\"T_4a792_row4_col2\" class=\"data row4 col2\" >0.002576</td>\n",
       "      <td id=\"T_4a792_row4_col3\" class=\"data row4 col3\" >0.103506</td>\n",
       "      <td id=\"T_4a792_row4_col4\" class=\"data row4 col4\" >1.000000</td>\n",
       "      <td id=\"T_4a792_row4_col5\" class=\"data row4 col5\" >-0.022337</td>\n",
       "    </tr>\n",
       "    <tr>\n",
       "      <th id=\"T_4a792_level0_row5\" class=\"row_heading level0 row5\" >PlacedOrNot</th>\n",
       "      <td id=\"T_4a792_row5_col0\" class=\"data row5 col0\" >0.046943</td>\n",
       "      <td id=\"T_4a792_row5_col1\" class=\"data row5 col1\" >0.179334</td>\n",
       "      <td id=\"T_4a792_row5_col2\" class=\"data row5 col2\" >0.588648</td>\n",
       "      <td id=\"T_4a792_row5_col3\" class=\"data row5 col3\" >-0.038182</td>\n",
       "      <td id=\"T_4a792_row5_col4\" class=\"data row5 col4\" >-0.022337</td>\n",
       "      <td id=\"T_4a792_row5_col5\" class=\"data row5 col5\" >1.000000</td>\n",
       "    </tr>\n",
       "  </tbody>\n",
       "</table>\n"
      ],
      "text/plain": [
       "<pandas.io.formats.style.Styler at 0x24ed01ed760>"
      ]
     },
     "execution_count": 8,
     "metadata": {},
     "output_type": "execute_result"
    }
   ],
   "source": [
    "df.corr().style.background_gradient()"
   ]
  },
  {
   "cell_type": "markdown",
   "id": "f138a409",
   "metadata": {},
   "source": [
    "Visualisation"
   ]
  },
  {
   "cell_type": "code",
   "execution_count": 9,
   "id": "c3d4360b",
   "metadata": {},
   "outputs": [
    {
     "data": {
      "image/png": "[encoded data removed]",
      "text/plain": [
       "<Figure size 432x288 with 1 Axes>"
      ]
     },
     "metadata": {
      "needs_background": "light"
     },
     "output_type": "display_data"
    }
   ],
   "source": [
    "ax = sns.countplot(data=df, x=\"Gender\", palette=\"Set2\")\n",
    "for p in ax.patches:\n",
    "    ax.annotate(f'\\n{p.get_height()}', (p.get_x()+0.4, p.get_height()), ha='center', va='top', color='white', size=10)\n",
    "plt.show()"
   ]
  },
  {
   "cell_type": "markdown",
   "id": "77ec41c7",
   "metadata": {},
   "source": [
    "- There are total 2475 male candidates and the 491 female candidates."
   ]
  },
  {
   "cell_type": "code",
   "execution_count": 10,
   "id": "d3d79815",
   "metadata": {},
   "outputs": [
    {
     "data": {
      "image/png": "[encoded data removed]",
      "text/plain": [
       "<Figure size 432x288 with 1 Axes>"
      ]
     },
     "metadata": {
      "needs_background": "light"
     },
     "output_type": "display_data"
    }
   ],
   "source": [
    "ax = sns.countplot(data=df, x=\"Gender\", hue=\"PlacedOrNot\", palette=\"Set2\")\n",
    "plt.title(\"Gender Vs PlacedOrNot\")\n",
    "for p in ax.patches:\n",
    "    ax.annotate(f'\\n{p.get_height()}', (p.get_x()+0.2, p.get_height()), ha='center', va='top', color='white', size=10)\n",
    "plt.show()"
   ]
  },
  {
   "cell_type": "markdown",
   "id": "132ec371",
   "metadata": {},
   "source": [
    "- 136 male candidates are placed out of 2475 whereas 275 female candidates are placed out of 491.\n",
    "- As per the data, we can say that most of the students who got placed are Male than female."
   ]
  },
  {
   "cell_type": "code",
   "execution_count": 11,
   "id": "9445aa48",
   "metadata": {},
   "outputs": [
    {
     "data": {
      "image/png": "[encoded data removed]",
      "text/plain": [
       "<Figure size 432x288 with 1 Axes>"
      ]
     },
     "metadata": {
      "needs_background": "light"
     },
     "output_type": "display_data"
    }
   ],
   "source": [
    "ax = sns.countplot(data=df, x=\"Stream\", hue=\"PlacedOrNot\", palette=\"Set2\")\n",
    "plt.title(\"Stream Vs PlacedOrNot\")\n",
    "plt.xticks(rotation=90)\n",
    "for p in ax.patches:\n",
    "    ax.annotate(f'\\n{p.get_height()}', (p.get_x()+0.2, p.get_height()), ha='center', va='top', color='white', size=8)\n",
    "plt.show()"
   ]
  },
  {
   "cell_type": "markdown",
   "id": "ec38233b",
   "metadata": {},
   "source": [
    "1. Most of the students who got placed are from Computer Science and Information Technology Stream.\n",
    "2. Very few students from the \"Civil\" and \"Electrical\" stream and got placed successfully."
   ]
  },
  {
   "cell_type": "code",
   "execution_count": 12,
   "id": "b9fb5390",
   "metadata": {},
   "outputs": [
    {
     "data": {
      "image/png": "[encoded data removed]",
      "text/plain": [
       "<Figure size 432x288 with 1 Axes>"
      ]
     },
     "metadata": {
      "needs_background": "light"
     },
     "output_type": "display_data"
    }
   ],
   "source": [
    "ax = sns.countplot(data=df, x=\"Stream\", hue=\"Gender\", palette=\"Set2\")\n",
    "plt.title(\"Gender Vs Stream\")\n",
    "plt.xticks(rotation=90)\n",
    "for p in ax.patches:\n",
    "    ax.annotate(f'\\n{p.get_height()}', (p.get_x()+0.05, p.get_height()))\n",
    "plt.show()"
   ]
  },
  {
   "cell_type": "code",
   "execution_count": 13,
   "id": "6cb30f99",
   "metadata": {},
   "outputs": [
    {
     "data": {
      "text/plain": [
       "Text(0.5, 1.0, 'Age Vs PlacedOrNot')"
      ]
     },
     "execution_count": 13,
     "metadata": {},
     "output_type": "execute_result"
    },
    {
     "data": {
      "image/png": "[encoded data removed]",
      "text/plain": [
       "<Figure size 864x576 with 1 Axes>"
      ]
     },
     "metadata": {
      "needs_background": "light"
     },
     "output_type": "display_data"
    }
   ],
   "source": [
    "plt.figure(figsize=(12,8))\n",
    "ax = sns.countplot(data=df, y=\"Age\", hue=\"PlacedOrNot\", palette=\"Set2\")\n",
    "plt.title(\"Age Vs PlacedOrNot\")"
   ]
  },
  {
   "cell_type": "markdown",
   "id": "78ef60f3",
   "metadata": {},
   "source": [
    "1. Students whose age is \"21\" & \"22\" have more chances of getting placed through campus placements.\n",
    "2. Students whose age is between 28-30 have fewer chances of getting placed in the organization."
   ]
  },
  {
   "cell_type": "code",
   "execution_count": 14,
   "id": "60069078",
   "metadata": {},
   "outputs": [
    {
     "data": {
      "image/png": "[encoded data removed]",
      "text/plain": [
       "<Figure size 432x288 with 1 Axes>"
      ]
     },
     "metadata": {
      "needs_background": "light"
     },
     "output_type": "display_data"
    }
   ],
   "source": [
    "ax = sns.countplot(data=df, x=\"PlacedOrNot\", hue=\"Internships\", palette=\"Set2\")\n",
    "plt.title(\"Interships Vs PlacedOrNot\")\n",
    "for p in ax.patches:\n",
    "    ax.annotate(f'\\n{p.get_height()}', (p.get_x()+0.05, p.get_height()))\n",
    "plt.show()"
   ]
  },
  {
   "cell_type": "markdown",
   "id": "e0b3dfd9",
   "metadata": {},
   "source": [
    "1. Most of the students who got placed have done either \"0\" or \"1\" internships.\n",
    "2. Very few students have done \"3\" internships and got placed successfully."
   ]
  },
  {
   "cell_type": "code",
   "execution_count": 15,
   "id": "22ecce67",
   "metadata": {},
   "outputs": [
    {
     "data": {
      "image/png": "[encoded data removed]",
      "text/plain": [
       "<Figure size 864x432 with 1 Axes>"
      ]
     },
     "metadata": {
      "needs_background": "light"
     },
     "output_type": "display_data"
    }
   ],
   "source": [
    "plt.figure(figsize=(12,6))\n",
    "plt.title(\"CGPA Vs PlacedOrNot\")\n",
    "ax = sns.countplot(data=df, x=\"CGPA\", hue=\"PlacedOrNot\")\n",
    "for p in ax.patches:\n",
    "    ax.annotate(f'\\n{p.get_height()}', (p.get_x()+0.05, p.get_height()))\n",
    "plt.show()"
   ]
  },
  {
   "cell_type": "markdown",
   "id": "37e0d3af",
   "metadata": {},
   "source": [
    "1. Most of the students who got placed have scored \"8\" in CGPA.\n",
    "2. Very few students have scored 5 and got placed successfully."
   ]
  },
  {
   "cell_type": "code",
   "execution_count": 16,
   "id": "46406440",
   "metadata": {},
   "outputs": [
    {
     "data": {
      "image/png": "[encoded data removed]",
      "text/plain": [
       "<Figure size 864x432 with 1 Axes>"
      ]
     },
     "metadata": {
      "needs_background": "light"
     },
     "output_type": "display_data"
    }
   ],
   "source": [
    "plt.figure(figsize=(12,6))\n",
    "ax = sns.countplot(data=df, x=\"HistoryOfBacklogs\", hue=\"PlacedOrNot\")\n",
    "plt.title(\"HistoryOfBacklogs Vs PlacedOrNot\")\n",
    "for p in ax.patches:\n",
    "    ax.annotate(f'\\n{p.get_height()}', (p.get_x()+0.15, p.get_height()))\n",
    "plt.show()"
   ]
  },
  {
   "cell_type": "markdown",
   "id": "05c5de16",
   "metadata": {},
   "source": [
    "1. Most of the students who got placed have no backlogs.\n",
    "2. Some students have a backlog ,got placed successfully."
   ]
  },
  {
   "cell_type": "code",
   "execution_count": 17,
   "id": "5538be6f",
   "metadata": {},
   "outputs": [
    {
     "data": {
      "text/html": [
       "<div>\n",
       "<style scoped>\n",
       "    .dataframe tbody tr th:only-of-type {\n",
       "        vertical-align: middle;\n",
       "    }\n",
       "\n",
       "    .dataframe tbody tr th {\n",
       "        vertical-align: top;\n",
       "    }\n",
       "\n",
       "    .dataframe thead th {\n",
       "        text-align: right;\n",
       "    }\n",
       "</style>\n",
       "<table border=\"1\" class=\"dataframe\">\n",
       "  <thead>\n",
       "    <tr style=\"text-align: right;\">\n",
       "      <th></th>\n",
       "      <th>Age</th>\n",
       "      <th>Gender</th>\n",
       "      <th>Stream</th>\n",
       "      <th>Internships</th>\n",
       "      <th>CGPA</th>\n",
       "      <th>Hostel</th>\n",
       "      <th>HistoryOfBacklogs</th>\n",
       "      <th>PlacedOrNot</th>\n",
       "    </tr>\n",
       "  </thead>\n",
       "  <tbody>\n",
       "    <tr>\n",
       "      <th>0</th>\n",
       "      <td>22</td>\n",
       "      <td>Male</td>\n",
       "      <td>Electronics And Communication</td>\n",
       "      <td>1</td>\n",
       "      <td>8</td>\n",
       "      <td>1</td>\n",
       "      <td>1</td>\n",
       "      <td>1</td>\n",
       "    </tr>\n",
       "    <tr>\n",
       "      <th>1</th>\n",
       "      <td>21</td>\n",
       "      <td>Female</td>\n",
       "      <td>Computer Science</td>\n",
       "      <td>0</td>\n",
       "      <td>7</td>\n",
       "      <td>1</td>\n",
       "      <td>1</td>\n",
       "      <td>1</td>\n",
       "    </tr>\n",
       "    <tr>\n",
       "      <th>2</th>\n",
       "      <td>22</td>\n",
       "      <td>Female</td>\n",
       "      <td>Information Technology</td>\n",
       "      <td>1</td>\n",
       "      <td>6</td>\n",
       "      <td>0</td>\n",
       "      <td>0</td>\n",
       "      <td>1</td>\n",
       "    </tr>\n",
       "    <tr>\n",
       "      <th>3</th>\n",
       "      <td>21</td>\n",
       "      <td>Male</td>\n",
       "      <td>Information Technology</td>\n",
       "      <td>0</td>\n",
       "      <td>8</td>\n",
       "      <td>0</td>\n",
       "      <td>1</td>\n",
       "      <td>1</td>\n",
       "    </tr>\n",
       "    <tr>\n",
       "      <th>4</th>\n",
       "      <td>22</td>\n",
       "      <td>Male</td>\n",
       "      <td>Mechanical</td>\n",
       "      <td>0</td>\n",
       "      <td>8</td>\n",
       "      <td>1</td>\n",
       "      <td>0</td>\n",
       "      <td>1</td>\n",
       "    </tr>\n",
       "  </tbody>\n",
       "</table>\n",
       "</div>"
      ],
      "text/plain": [
       "   Age  Gender                         Stream  Internships  CGPA  Hostel  \\\n",
       "0   22    Male  Electronics And Communication            1     8       1   \n",
       "1   21  Female               Computer Science            0     7       1   \n",
       "2   22  Female         Information Technology            1     6       0   \n",
       "3   21    Male         Information Technology            0     8       0   \n",
       "4   22    Male                     Mechanical            0     8       1   \n",
       "\n",
       "   HistoryOfBacklogs  PlacedOrNot  \n",
       "0                  1            1  \n",
       "1                  1            1  \n",
       "2                  0            1  \n",
       "3                  1            1  \n",
       "4                  0            1  "
      ]
     },
     "execution_count": 17,
     "metadata": {},
     "output_type": "execute_result"
    }
   ],
   "source": [
    "df.head()"
   ]
  },
  {
   "cell_type": "markdown",
   "id": "8ffcead6",
   "metadata": {},
   "source": [
    "# Scaling data to use on a same unit"
   ]
  },
  {
   "cell_type": "code",
   "execution_count": 18,
   "id": "a12947c4",
   "metadata": {},
   "outputs": [
    {
     "data": {
      "text/plain": [
       "Index(['Gender', 'Stream'], dtype='object')"
      ]
     },
     "execution_count": 18,
     "metadata": {},
     "output_type": "execute_result"
    }
   ],
   "source": [
    "catcol = df.select_dtypes(\"object\").columns\n",
    "catcol"
   ]
  },
  {
   "cell_type": "code",
   "execution_count": 19,
   "id": "db56be6b",
   "metadata": {},
   "outputs": [],
   "source": [
    "from sklearn.preprocessing import OrdinalEncoder\n",
    "oe = OrdinalEncoder()\n",
    "df[catcol] = oe.fit_transform(df[catcol])"
   ]
  },
  {
   "cell_type": "code",
   "execution_count": 20,
   "id": "b11da2d5",
   "metadata": {},
   "outputs": [
    {
     "data": {
      "text/html": [
       "<div>\n",
       "<style scoped>\n",
       "    .dataframe tbody tr th:only-of-type {\n",
       "        vertical-align: middle;\n",
       "    }\n",
       "\n",
       "    .dataframe tbody tr th {\n",
       "        vertical-align: top;\n",
       "    }\n",
       "\n",
       "    .dataframe thead th {\n",
       "        text-align: right;\n",
       "    }\n",
       "</style>\n",
       "<table border=\"1\" class=\"dataframe\">\n",
       "  <thead>\n",
       "    <tr style=\"text-align: right;\">\n",
       "      <th></th>\n",
       "      <th>Age</th>\n",
       "      <th>Gender</th>\n",
       "      <th>Stream</th>\n",
       "      <th>Internships</th>\n",
       "      <th>CGPA</th>\n",
       "      <th>Hostel</th>\n",
       "      <th>HistoryOfBacklogs</th>\n",
       "      <th>PlacedOrNot</th>\n",
       "    </tr>\n",
       "  </thead>\n",
       "  <tbody>\n",
       "    <tr>\n",
       "      <th>0</th>\n",
       "      <td>22</td>\n",
       "      <td>1.0</td>\n",
       "      <td>3.0</td>\n",
       "      <td>1</td>\n",
       "      <td>8</td>\n",
       "      <td>1</td>\n",
       "      <td>1</td>\n",
       "      <td>1</td>\n",
       "    </tr>\n",
       "    <tr>\n",
       "      <th>1</th>\n",
       "      <td>21</td>\n",
       "      <td>0.0</td>\n",
       "      <td>1.0</td>\n",
       "      <td>0</td>\n",
       "      <td>7</td>\n",
       "      <td>1</td>\n",
       "      <td>1</td>\n",
       "      <td>1</td>\n",
       "    </tr>\n",
       "    <tr>\n",
       "      <th>2</th>\n",
       "      <td>22</td>\n",
       "      <td>0.0</td>\n",
       "      <td>4.0</td>\n",
       "      <td>1</td>\n",
       "      <td>6</td>\n",
       "      <td>0</td>\n",
       "      <td>0</td>\n",
       "      <td>1</td>\n",
       "    </tr>\n",
       "    <tr>\n",
       "      <th>3</th>\n",
       "      <td>21</td>\n",
       "      <td>1.0</td>\n",
       "      <td>4.0</td>\n",
       "      <td>0</td>\n",
       "      <td>8</td>\n",
       "      <td>0</td>\n",
       "      <td>1</td>\n",
       "      <td>1</td>\n",
       "    </tr>\n",
       "    <tr>\n",
       "      <th>4</th>\n",
       "      <td>22</td>\n",
       "      <td>1.0</td>\n",
       "      <td>5.0</td>\n",
       "      <td>0</td>\n",
       "      <td>8</td>\n",
       "      <td>1</td>\n",
       "      <td>0</td>\n",
       "      <td>1</td>\n",
       "    </tr>\n",
       "  </tbody>\n",
       "</table>\n",
       "</div>"
      ],
      "text/plain": [
       "   Age  Gender  Stream  Internships  CGPA  Hostel  HistoryOfBacklogs  \\\n",
       "0   22     1.0     3.0            1     8       1                  1   \n",
       "1   21     0.0     1.0            0     7       1                  1   \n",
       "2   22     0.0     4.0            1     6       0                  0   \n",
       "3   21     1.0     4.0            0     8       0                  1   \n",
       "4   22     1.0     5.0            0     8       1                  0   \n",
       "\n",
       "   PlacedOrNot  \n",
       "0            1  \n",
       "1            1  \n",
       "2            1  \n",
       "3            1  \n",
       "4            1  "
      ]
     },
     "execution_count": 20,
     "metadata": {},
     "output_type": "execute_result"
    }
   ],
   "source": [
    "df.head()"
   ]
  },
  {
   "cell_type": "code",
   "execution_count": 21,
   "id": "fe1a4fb1",
   "metadata": {},
   "outputs": [],
   "source": [
    "x = df.iloc[:, :-1]\n",
    "y = df.iloc[:, -1]"
   ]
  },
  {
   "cell_type": "code",
   "execution_count": 22,
   "id": "f860d4cd",
   "metadata": {},
   "outputs": [
    {
     "data": {
      "text/html": [
       "<div>\n",
       "<style scoped>\n",
       "    .dataframe tbody tr th:only-of-type {\n",
       "        vertical-align: middle;\n",
       "    }\n",
       "\n",
       "    .dataframe tbody tr th {\n",
       "        vertical-align: top;\n",
       "    }\n",
       "\n",
       "    .dataframe thead th {\n",
       "        text-align: right;\n",
       "    }\n",
       "</style>\n",
       "<table border=\"1\" class=\"dataframe\">\n",
       "  <thead>\n",
       "    <tr style=\"text-align: right;\">\n",
       "      <th></th>\n",
       "      <th>Age</th>\n",
       "      <th>Gender</th>\n",
       "      <th>Stream</th>\n",
       "      <th>Internships</th>\n",
       "      <th>CGPA</th>\n",
       "      <th>Hostel</th>\n",
       "      <th>HistoryOfBacklogs</th>\n",
       "    </tr>\n",
       "  </thead>\n",
       "  <tbody>\n",
       "    <tr>\n",
       "      <th>0</th>\n",
       "      <td>22</td>\n",
       "      <td>1.0</td>\n",
       "      <td>3.0</td>\n",
       "      <td>1</td>\n",
       "      <td>8</td>\n",
       "      <td>1</td>\n",
       "      <td>1</td>\n",
       "    </tr>\n",
       "    <tr>\n",
       "      <th>1</th>\n",
       "      <td>21</td>\n",
       "      <td>0.0</td>\n",
       "      <td>1.0</td>\n",
       "      <td>0</td>\n",
       "      <td>7</td>\n",
       "      <td>1</td>\n",
       "      <td>1</td>\n",
       "    </tr>\n",
       "    <tr>\n",
       "      <th>2</th>\n",
       "      <td>22</td>\n",
       "      <td>0.0</td>\n",
       "      <td>4.0</td>\n",
       "      <td>1</td>\n",
       "      <td>6</td>\n",
       "      <td>0</td>\n",
       "      <td>0</td>\n",
       "    </tr>\n",
       "    <tr>\n",
       "      <th>3</th>\n",
       "      <td>21</td>\n",
       "      <td>1.0</td>\n",
       "      <td>4.0</td>\n",
       "      <td>0</td>\n",
       "      <td>8</td>\n",
       "      <td>0</td>\n",
       "      <td>1</td>\n",
       "    </tr>\n",
       "    <tr>\n",
       "      <th>4</th>\n",
       "      <td>22</td>\n",
       "      <td>1.0</td>\n",
       "      <td>5.0</td>\n",
       "      <td>0</td>\n",
       "      <td>8</td>\n",
       "      <td>1</td>\n",
       "      <td>0</td>\n",
       "    </tr>\n",
       "    <tr>\n",
       "      <th>...</th>\n",
       "      <td>...</td>\n",
       "      <td>...</td>\n",
       "      <td>...</td>\n",
       "      <td>...</td>\n",
       "      <td>...</td>\n",
       "      <td>...</td>\n",
       "      <td>...</td>\n",
       "    </tr>\n",
       "    <tr>\n",
       "      <th>2961</th>\n",
       "      <td>23</td>\n",
       "      <td>1.0</td>\n",
       "      <td>4.0</td>\n",
       "      <td>0</td>\n",
       "      <td>7</td>\n",
       "      <td>0</td>\n",
       "      <td>0</td>\n",
       "    </tr>\n",
       "    <tr>\n",
       "      <th>2962</th>\n",
       "      <td>23</td>\n",
       "      <td>1.0</td>\n",
       "      <td>5.0</td>\n",
       "      <td>1</td>\n",
       "      <td>7</td>\n",
       "      <td>1</td>\n",
       "      <td>0</td>\n",
       "    </tr>\n",
       "    <tr>\n",
       "      <th>2963</th>\n",
       "      <td>22</td>\n",
       "      <td>1.0</td>\n",
       "      <td>4.0</td>\n",
       "      <td>1</td>\n",
       "      <td>7</td>\n",
       "      <td>0</td>\n",
       "      <td>0</td>\n",
       "    </tr>\n",
       "    <tr>\n",
       "      <th>2964</th>\n",
       "      <td>22</td>\n",
       "      <td>1.0</td>\n",
       "      <td>1.0</td>\n",
       "      <td>1</td>\n",
       "      <td>7</td>\n",
       "      <td>0</td>\n",
       "      <td>0</td>\n",
       "    </tr>\n",
       "    <tr>\n",
       "      <th>2965</th>\n",
       "      <td>23</td>\n",
       "      <td>1.0</td>\n",
       "      <td>0.0</td>\n",
       "      <td>0</td>\n",
       "      <td>8</td>\n",
       "      <td>0</td>\n",
       "      <td>0</td>\n",
       "    </tr>\n",
       "  </tbody>\n",
       "</table>\n",
       "<p>2966 rows × 7 columns</p>\n",
       "</div>"
      ],
      "text/plain": [
       "      Age  Gender  Stream  Internships  CGPA  Hostel  HistoryOfBacklogs\n",
       "0      22     1.0     3.0            1     8       1                  1\n",
       "1      21     0.0     1.0            0     7       1                  1\n",
       "2      22     0.0     4.0            1     6       0                  0\n",
       "3      21     1.0     4.0            0     8       0                  1\n",
       "4      22     1.0     5.0            0     8       1                  0\n",
       "...   ...     ...     ...          ...   ...     ...                ...\n",
       "2961   23     1.0     4.0            0     7       0                  0\n",
       "2962   23     1.0     5.0            1     7       1                  0\n",
       "2963   22     1.0     4.0            1     7       0                  0\n",
       "2964   22     1.0     1.0            1     7       0                  0\n",
       "2965   23     1.0     0.0            0     8       0                  0\n",
       "\n",
       "[2966 rows x 7 columns]"
      ]
     },
     "execution_count": 22,
     "metadata": {},
     "output_type": "execute_result"
    }
   ],
   "source": [
    "x"
   ]
  },
  {
   "cell_type": "code",
   "execution_count": 23,
   "id": "8180a3d9",
   "metadata": {},
   "outputs": [
    {
     "data": {
      "text/plain": [
       "1    1639\n",
       "0    1327\n",
       "Name: PlacedOrNot, dtype: int64"
      ]
     },
     "execution_count": 23,
     "metadata": {},
     "output_type": "execute_result"
    }
   ],
   "source": [
    "y.value_counts()"
   ]
  },
  {
   "cell_type": "markdown",
   "id": "3e26286a",
   "metadata": {},
   "source": [
    "# Building Model"
   ]
  },
  {
   "cell_type": "code",
   "execution_count": 24,
   "id": "7545fe44",
   "metadata": {},
   "outputs": [],
   "source": [
    "from sklearn.model_selection import train_test_split\n",
    "xtrain, xtest, ytrain, ytest = train_test_split(x, y, test_size=0.3, random_state=1, stratify=y)"
   ]
  },
  {
   "cell_type": "code",
   "execution_count": 25,
   "id": "8de4792c",
   "metadata": {},
   "outputs": [],
   "source": [
    "from sklearn.linear_model import LogisticRegression\n",
    "from sklearn.neighbors import KNeighborsClassifier\n",
    "from sklearn.svm import SVC\n",
    "from sklearn.tree import DecisionTreeClassifier\n",
    "from sklearn.ensemble import RandomForestClassifier\n",
    "from sklearn.ensemble import AdaBoostClassifier\n",
    "from sklearn.metrics import classification_report, confusion_matrix"
   ]
  },
  {
   "cell_type": "code",
   "execution_count": 26,
   "id": "dfe460dd",
   "metadata": {},
   "outputs": [],
   "source": [
    "def mymodel(model):\n",
    "    model.fit(xtrain, ytrain)\n",
    "    ypred = model.predict(xtest)\n",
    "    \n",
    "    train = model.score(xtrain, ytrain)\n",
    "    test = model.score(xtest, ytest)\n",
    "    \n",
    "    print(f\"Training Accuracy: {train}\\nTesting Accuracy: {test}\")\n",
    "    print(confusion_matrix(ytest, ypred))\n",
    "    print(classification_report(ytest, ypred))\n",
    "    \n",
    "    return model"
   ]
  },
  {
   "cell_type": "code",
   "execution_count": 27,
   "id": "0135b778",
   "metadata": {},
   "outputs": [
    {
     "name": "stdout",
     "output_type": "stream",
     "text": [
      "Training Accuracy: 0.7634874759152216\n",
      "Testing Accuracy: 0.7573033707865169\n",
      "[[283 115]\n",
      " [101 391]]\n",
      "              precision    recall  f1-score   support\n",
      "\n",
      "           0       0.74      0.71      0.72       398\n",
      "           1       0.77      0.79      0.78       492\n",
      "\n",
      "    accuracy                           0.76       890\n",
      "   macro avg       0.75      0.75      0.75       890\n",
      "weighted avg       0.76      0.76      0.76       890\n",
      "\n"
     ]
    }
   ],
   "source": [
    "Log_reg = mymodel(LogisticRegression())"
   ]
  },
  {
   "cell_type": "code",
   "execution_count": 28,
   "id": "8b8fdb2a",
   "metadata": {},
   "outputs": [
    {
     "name": "stdout",
     "output_type": "stream",
     "text": [
      "Training Accuracy: 0.8892100192678227\n",
      "Testing Accuracy: 0.8696629213483146\n",
      "[[353  45]\n",
      " [ 71 421]]\n",
      "              precision    recall  f1-score   support\n",
      "\n",
      "           0       0.83      0.89      0.86       398\n",
      "           1       0.90      0.86      0.88       492\n",
      "\n",
      "    accuracy                           0.87       890\n",
      "   macro avg       0.87      0.87      0.87       890\n",
      "weighted avg       0.87      0.87      0.87       890\n",
      "\n"
     ]
    }
   ],
   "source": [
    "knn = mymodel(KNeighborsClassifier())"
   ]
  },
  {
   "cell_type": "code",
   "execution_count": 29,
   "id": "9ef5ea4d",
   "metadata": {},
   "outputs": [
    {
     "name": "stdout",
     "output_type": "stream",
     "text": [
      "Training Accuracy: 0.7808285163776493\n",
      "Testing Accuracy: 0.7629213483146068\n",
      "[[309  89]\n",
      " [122 370]]\n",
      "              precision    recall  f1-score   support\n",
      "\n",
      "           0       0.72      0.78      0.75       398\n",
      "           1       0.81      0.75      0.78       492\n",
      "\n",
      "    accuracy                           0.76       890\n",
      "   macro avg       0.76      0.76      0.76       890\n",
      "weighted avg       0.77      0.76      0.76       890\n",
      "\n"
     ]
    }
   ],
   "source": [
    "svm = mymodel(SVC())"
   ]
  },
  {
   "cell_type": "code",
   "execution_count": 30,
   "id": "b64c4057",
   "metadata": {},
   "outputs": [
    {
     "name": "stdout",
     "output_type": "stream",
     "text": [
      "Training Accuracy: 0.928709055876686\n",
      "Testing Accuracy: 0.8797752808988764\n",
      "[[370  28]\n",
      " [ 79 413]]\n",
      "              precision    recall  f1-score   support\n",
      "\n",
      "           0       0.82      0.93      0.87       398\n",
      "           1       0.94      0.84      0.89       492\n",
      "\n",
      "    accuracy                           0.88       890\n",
      "   macro avg       0.88      0.88      0.88       890\n",
      "weighted avg       0.89      0.88      0.88       890\n",
      "\n"
     ]
    }
   ],
   "source": [
    "dec_tree = mymodel(DecisionTreeClassifier())"
   ]
  },
  {
   "cell_type": "code",
   "execution_count": 31,
   "id": "6b57d221",
   "metadata": {},
   "outputs": [
    {
     "name": "stdout",
     "output_type": "stream",
     "text": [
      "Training Accuracy: 0.928709055876686\n",
      "Testing Accuracy: 0.8797752808988764\n",
      "[[361  37]\n",
      " [ 70 422]]\n",
      "              precision    recall  f1-score   support\n",
      "\n",
      "           0       0.84      0.91      0.87       398\n",
      "           1       0.92      0.86      0.89       492\n",
      "\n",
      "    accuracy                           0.88       890\n",
      "   macro avg       0.88      0.88      0.88       890\n",
      "weighted avg       0.88      0.88      0.88       890\n",
      "\n"
     ]
    }
   ],
   "source": [
    "ran_forest = mymodel(RandomForestClassifier())"
   ]
  },
  {
   "cell_type": "code",
   "execution_count": 32,
   "id": "839b4a13",
   "metadata": {},
   "outputs": [
    {
     "name": "stdout",
     "output_type": "stream",
     "text": [
      "Training Accuracy: 0.8689788053949904\n",
      "Testing Accuracy: 0.8808988764044944\n",
      "[[373  25]\n",
      " [ 81 411]]\n",
      "              precision    recall  f1-score   support\n",
      "\n",
      "           0       0.82      0.94      0.88       398\n",
      "           1       0.94      0.84      0.89       492\n",
      "\n",
      "    accuracy                           0.88       890\n",
      "   macro avg       0.88      0.89      0.88       890\n",
      "weighted avg       0.89      0.88      0.88       890\n",
      "\n"
     ]
    }
   ],
   "source": [
    "ada = mymodel(AdaBoostClassifier())"
   ]
  },
  {
   "cell_type": "markdown",
   "id": "20cee8f5",
   "metadata": {},
   "source": [
    "# Checking outliers"
   ]
  },
  {
   "cell_type": "code",
   "execution_count": 33,
   "id": "682c8522",
   "metadata": {},
   "outputs": [
    {
     "data": {
      "image/png": "[encoded data removed]",
      "text/plain": [
       "<Figure size 432x288 with 1 Axes>"
      ]
     },
     "metadata": {
      "needs_background": "light"
     },
     "output_type": "display_data"
    },
    {
     "data": {
      "image/png": "[encoded data removed]",
      "text/plain": [
       "<Figure size 432x288 with 1 Axes>"
      ]
     },
     "metadata": {
      "needs_background": "light"
     },
     "output_type": "display_data"
    },
    {
     "data": {
      "image/png": "[encoded data removed]",
      "text/plain": [
       "<Figure size 432x288 with 1 Axes>"
      ]
     },
     "metadata": {
      "needs_background": "light"
     },
     "output_type": "display_data"
    },
    {
     "data": {
      "image/png": "[encoded data removed]",
      "text/plain": [
       "<Figure size 432x288 with 1 Axes>"
      ]
     },
     "metadata": {
      "needs_background": "light"
     },
     "output_type": "display_data"
    },
    {
     "data": {
      "image/png": "[encoded data removed]",
      "text/plain": [
       "<Figure size 432x288 with 1 Axes>"
      ]
     },
     "metadata": {
      "needs_background": "light"
     },
     "output_type": "display_data"
    },
    {
     "data": {
      "image/png": "[encoded data removed]",
      "text/plain": [
       "<Figure size 432x288 with 1 Axes>"
      ]
     },
     "metadata": {
      "needs_background": "light"
     },
     "output_type": "display_data"
    },
    {
     "data": {
      "image/png": "[encoded data removed]",
      "text/plain": [
       "<Figure size 432x288 with 1 Axes>"
      ]
     },
     "metadata": {
      "needs_background": "light"
     },
     "output_type": "display_data"
    },
    {
     "data": {
      "image/png": "[encoded data removed]",
      "text/plain": [
       "<Figure size 432x288 with 1 Axes>"
      ]
     },
     "metadata": {
      "needs_background": "light"
     },
     "output_type": "display_data"
    }
   ],
   "source": [
    "for col in df:    \n",
    "    plt.figure()\n",
    "    sns.boxplot(df[col])\n",
    "    plt.show"
   ]
  },
  {
   "cell_type": "markdown",
   "id": "e1cb1527",
   "metadata": {},
   "source": [
    "# Scaling the features to Optimize the performance"
   ]
  },
  {
   "cell_type": "code",
   "execution_count": 34,
   "id": "347ccd40",
   "metadata": {},
   "outputs": [],
   "source": [
    "from sklearn.preprocessing import StandardScaler\n",
    "sc = StandardScaler()\n",
    "xtrain = sc.fit_transform(xtrain)\n",
    "xtest = sc.transform(xtest)"
   ]
  },
  {
   "cell_type": "code",
   "execution_count": 35,
   "id": "8421b654",
   "metadata": {},
   "outputs": [
    {
     "name": "stdout",
     "output_type": "stream",
     "text": [
      "Training Accuracy: 0.7639691714836223\n",
      "Testing Accuracy: 0.7584269662921348\n",
      "[[283 115]\n",
      " [100 392]]\n",
      "              precision    recall  f1-score   support\n",
      "\n",
      "           0       0.74      0.71      0.72       398\n",
      "           1       0.77      0.80      0.78       492\n",
      "\n",
      "    accuracy                           0.76       890\n",
      "   macro avg       0.76      0.75      0.75       890\n",
      "weighted avg       0.76      0.76      0.76       890\n",
      "\n"
     ]
    }
   ],
   "source": [
    "Log_reg_1 = mymodel(LogisticRegression())"
   ]
  },
  {
   "cell_type": "code",
   "execution_count": 36,
   "id": "1465645c",
   "metadata": {},
   "outputs": [
    {
     "name": "stdout",
     "output_type": "stream",
     "text": [
      "Training Accuracy: 0.8872832369942196\n",
      "Testing Accuracy: 0.8662921348314607\n",
      "[[346  52]\n",
      " [ 67 425]]\n",
      "              precision    recall  f1-score   support\n",
      "\n",
      "           0       0.84      0.87      0.85       398\n",
      "           1       0.89      0.86      0.88       492\n",
      "\n",
      "    accuracy                           0.87       890\n",
      "   macro avg       0.86      0.87      0.87       890\n",
      "weighted avg       0.87      0.87      0.87       890\n",
      "\n"
     ]
    }
   ],
   "source": [
    "knn_1 = mymodel(KNeighborsClassifier())"
   ]
  },
  {
   "cell_type": "code",
   "execution_count": 37,
   "id": "b850c5ea",
   "metadata": {},
   "outputs": [
    {
     "name": "stdout",
     "output_type": "stream",
     "text": [
      "Training Accuracy: 0.8684971098265896\n",
      "Testing Accuracy: 0.8685393258426967\n",
      "[[361  37]\n",
      " [ 80 412]]\n",
      "              precision    recall  f1-score   support\n",
      "\n",
      "           0       0.82      0.91      0.86       398\n",
      "           1       0.92      0.84      0.88       492\n",
      "\n",
      "    accuracy                           0.87       890\n",
      "   macro avg       0.87      0.87      0.87       890\n",
      "weighted avg       0.87      0.87      0.87       890\n",
      "\n"
     ]
    }
   ],
   "source": [
    "svm_1 = mymodel(SVC())"
   ]
  },
  {
   "cell_type": "code",
   "execution_count": 38,
   "id": "66cf49f8",
   "metadata": {},
   "outputs": [
    {
     "name": "stdout",
     "output_type": "stream",
     "text": [
      "Training Accuracy: 0.928709055876686\n",
      "Testing Accuracy: 0.8797752808988764\n",
      "[[370  28]\n",
      " [ 79 413]]\n",
      "              precision    recall  f1-score   support\n",
      "\n",
      "           0       0.82      0.93      0.87       398\n",
      "           1       0.94      0.84      0.89       492\n",
      "\n",
      "    accuracy                           0.88       890\n",
      "   macro avg       0.88      0.88      0.88       890\n",
      "weighted avg       0.89      0.88      0.88       890\n",
      "\n"
     ]
    }
   ],
   "source": [
    "dec_tree_1 = mymodel(DecisionTreeClassifier())"
   ]
  },
  {
   "cell_type": "code",
   "execution_count": 39,
   "id": "5bf1f070",
   "metadata": {},
   "outputs": [
    {
     "name": "stdout",
     "output_type": "stream",
     "text": [
      "Training Accuracy: 0.928709055876686\n",
      "Testing Accuracy: 0.8808988764044944\n",
      "[[362  36]\n",
      " [ 70 422]]\n",
      "              precision    recall  f1-score   support\n",
      "\n",
      "           0       0.84      0.91      0.87       398\n",
      "           1       0.92      0.86      0.89       492\n",
      "\n",
      "    accuracy                           0.88       890\n",
      "   macro avg       0.88      0.88      0.88       890\n",
      "weighted avg       0.88      0.88      0.88       890\n",
      "\n"
     ]
    }
   ],
   "source": [
    "ran_forest_1 = mymodel(RandomForestClassifier())"
   ]
  },
  {
   "cell_type": "code",
   "execution_count": 40,
   "id": "478233fd",
   "metadata": {},
   "outputs": [
    {
     "name": "stdout",
     "output_type": "stream",
     "text": [
      "Training Accuracy: 0.8689788053949904\n",
      "Testing Accuracy: 0.8808988764044944\n",
      "[[373  25]\n",
      " [ 81 411]]\n",
      "              precision    recall  f1-score   support\n",
      "\n",
      "           0       0.82      0.94      0.88       398\n",
      "           1       0.94      0.84      0.89       492\n",
      "\n",
      "    accuracy                           0.88       890\n",
      "   macro avg       0.88      0.89      0.88       890\n",
      "weighted avg       0.89      0.88      0.88       890\n",
      "\n"
     ]
    }
   ],
   "source": [
    "ada_1 = mymodel(AdaBoostClassifier())"
   ]
  },
  {
   "cell_type": "markdown",
   "id": "692757e2",
   "metadata": {},
   "source": [
    "# Hyperparameter tuning"
   ]
  },
  {
   "cell_type": "code",
   "execution_count": 41,
   "id": "61ad6d14",
   "metadata": {},
   "outputs": [],
   "source": [
    "from sklearn.model_selection import GridSearchCV"
   ]
  },
  {
   "cell_type": "code",
   "execution_count": 42,
   "id": "a7c5ba11",
   "metadata": {},
   "outputs": [],
   "source": [
    "parameters = {\n",
    "    \"criterion\":[\"ginni\", \"entropy\"],\n",
    "    \"max_depth\": list(range(1,50,5)),\n",
    "    \"min_samples_leaf\": list(range(1,50,5)),\n",
    "}"
   ]
  },
  {
   "cell_type": "code",
   "execution_count": 43,
   "id": "a92e0062",
   "metadata": {},
   "outputs": [
    {
     "name": "stdout",
     "output_type": "stream",
     "text": [
      "Fitting 5 folds for each of 200 candidates, totalling 1000 fits\n",
      "[CV] END ...criterion=ginni, max_depth=1, min_samples_leaf=1; total time=   0.0s\n",
      "[CV] END ...criterion=ginni, max_depth=1, min_samples_leaf=1; total time=   0.0s\n",
      "[CV] END ...criterion=ginni, max_depth=1, min_samples_leaf=1; total time=   0.0s\n",
      "[CV] END ...criterion=ginni, max_depth=1, min_samples_leaf=1; total time=   0.0s\n",
      "[CV] END ...criterion=ginni, max_depth=1, min_samples_leaf=1; total time=   0.0s\n",
      "[CV] END ...criterion=ginni, max_depth=1, min_samples_leaf=6; total time=   0.0s\n",
      "[CV] END ...criterion=ginni, max_depth=1, min_samples_leaf=6; total time=   0.0s\n",
      "[CV] END ...criterion=ginni, max_depth=1, min_samples_leaf=6; total time=   0.0s\n",
      "[CV] END ...criterion=ginni, max_depth=1, min_samples_leaf=6; total time=   0.0s\n",
      "[CV] END ...criterion=ginni, max_depth=1, min_samples_leaf=6; total time=   0.0s\n",
      "[CV] END ..criterion=ginni, max_depth=1, min_samples_leaf=11; total time=   0.0s\n",
      "[CV] END ..criterion=ginni, max_depth=1, min_samples_leaf=11; total time=   0.0s\n",
      "[CV] END ..criterion=ginni, max_depth=1, min_samples_leaf=11; total time=   0.0s\n",
      "[CV] END ..criterion=ginni, max_depth=1, min_samples_leaf=11; total time=   0.0s\n",
      "[CV] END ..criterion=ginni, max_depth=1, min_samples_leaf=11; total time=   0.0s\n",
      "[CV] END ..criterion=ginni, max_depth=1, min_samples_leaf=16; total time=   0.0s\n",
      "[CV] END ..criterion=ginni, max_depth=1, min_samples_leaf=16; total time=   0.0s\n",
      "[CV] END ..criterion=ginni, max_depth=1, min_samples_leaf=16; total time=   0.0s\n",
      "[CV] END ..criterion=ginni, max_depth=1, min_samples_leaf=16; total time=   0.0s\n",
      "[CV] END ..criterion=ginni, max_depth=1, min_samples_leaf=16; total time=   0.0s\n",
      "[CV] END ..criterion=ginni, max_depth=1, min_samples_leaf=21; total time=   0.0s\n",
      "[CV] END ..criterion=ginni, max_depth=1, min_samples_leaf=21; total time=   0.0s\n",
      "[CV] END ..criterion=ginni, max_depth=1, min_samples_leaf=21; total time=   0.0s\n",
      "[CV] END ..criterion=ginni, max_depth=1, min_samples_leaf=21; total time=   0.0s\n",
      "[CV] END ..criterion=ginni, max_depth=1, min_samples_leaf=21; total time=   0.0s\n",
      "[CV] END ..criterion=ginni, max_depth=1, min_samples_leaf=26; total time=   0.0s\n",
      "[CV] END ..criterion=ginni, max_depth=1, min_samples_leaf=26; total time=   0.0s\n",
      "[CV] END ..criterion=ginni, max_depth=1, min_samples_leaf=26; total time=   0.0s\n",
      "[CV] END ..criterion=ginni, max_depth=1, min_samples_leaf=26; total time=   0.0s\n",
      "[CV] END ..criterion=ginni, max_depth=1, min_samples_leaf=26; total time=   0.0s\n",
      "[CV] END ..criterion=ginni, max_depth=1, min_samples_leaf=31; total time=   0.0s\n",
      "[CV] END ..criterion=ginni, max_depth=1, min_samples_leaf=31; total time=   0.0s\n",
      "[CV] END ..criterion=ginni, max_depth=1, min_samples_leaf=31; total time=   0.0s\n",
      "[CV] END ..criterion=ginni, max_depth=1, min_samples_leaf=31; total time=   0.0s\n",
      "[CV] END ..criterion=ginni, max_depth=1, min_samples_leaf=31; total time=   0.0s\n",
      "[CV] END ..criterion=ginni, max_depth=1, min_samples_leaf=36; total time=   0.0s\n",
      "[CV] END ..criterion=ginni, max_depth=1, min_samples_leaf=36; total time=   0.0s\n",
      "[CV] END ..criterion=ginni, max_depth=1, min_samples_leaf=36; total time=   0.0s\n",
      "[CV] END ..criterion=ginni, max_depth=1, min_samples_leaf=36; total time=   0.0s\n",
      "[CV] END ..criterion=ginni, max_depth=1, min_samples_leaf=36; total time=   0.0s\n",
      "[CV] END ..criterion=ginni, max_depth=1, min_samples_leaf=41; total time=   0.0s\n",
      "[CV] END ..criterion=ginni, max_depth=1, min_samples_leaf=41; total time=   0.0s\n",
      "[CV] END ..criterion=ginni, max_depth=1, min_samples_leaf=41; total time=   0.0s\n",
      "[CV] END ..criterion=ginni, max_depth=1, min_samples_leaf=41; total time=   0.0s\n",
      "[CV] END ..criterion=ginni, max_depth=1, min_samples_leaf=41; total time=   0.0s\n",
      "[CV] END ..criterion=ginni, max_depth=1, min_samples_leaf=46; total time=   0.0s\n",
      "[CV] END ..criterion=ginni, max_depth=1, min_samples_leaf=46; total time=   0.0s\n",
      "[CV] END ..criterion=ginni, max_depth=1, min_samples_leaf=46; total time=   0.0s\n",
      "[CV] END ..criterion=ginni, max_depth=1, min_samples_leaf=46; total time=   0.0s\n",
      "[CV] END ..criterion=ginni, max_depth=1, min_samples_leaf=46; total time=   0.0s\n",
      "[CV] END ...criterion=ginni, max_depth=6, min_samples_leaf=1; total time=   0.0s\n",
      "[CV] END ...criterion=ginni, max_depth=6, min_samples_leaf=1; total time=   0.0s\n",
      "[CV] END ...criterion=ginni, max_depth=6, min_samples_leaf=1; total time=   0.0s\n",
      "[CV] END ...criterion=ginni, max_depth=6, min_samples_leaf=1; total time=   0.0s\n",
      "[CV] END ...criterion=ginni, max_depth=6, min_samples_leaf=1; total time=   0.0s\n",
      "[CV] END ...criterion=ginni, max_depth=6, min_samples_leaf=6; total time=   0.0s\n",
      "[CV] END ...criterion=ginni, max_depth=6, min_samples_leaf=6; total time=   0.0s\n",
      "[CV] END ...criterion=ginni, max_depth=6, min_samples_leaf=6; total time=   0.0s\n",
      "[CV] END ...criterion=ginni, max_depth=6, min_samples_leaf=6; total time=   0.0s\n",
      "[CV] END ...criterion=ginni, max_depth=6, min_samples_leaf=6; total time=   0.0s\n",
      "[CV] END ..criterion=ginni, max_depth=6, min_samples_leaf=11; total time=   0.0s\n",
      "[CV] END ..criterion=ginni, max_depth=6, min_samples_leaf=11; total time=   0.0s\n",
      "[CV] END ..criterion=ginni, max_depth=6, min_samples_leaf=11; total time=   0.0s\n",
      "[CV] END ..criterion=ginni, max_depth=6, min_samples_leaf=11; total time=   0.0s\n",
      "[CV] END ..criterion=ginni, max_depth=6, min_samples_leaf=11; total time=   0.0s\n",
      "[CV] END ..criterion=ginni, max_depth=6, min_samples_leaf=16; total time=   0.0s\n",
      "[CV] END ..criterion=ginni, max_depth=6, min_samples_leaf=16; total time=   0.0s\n",
      "[CV] END ..criterion=ginni, max_depth=6, min_samples_leaf=16; total time=   0.0s\n",
      "[CV] END ..criterion=ginni, max_depth=6, min_samples_leaf=16; total time=   0.0s\n",
      "[CV] END ..criterion=ginni, max_depth=6, min_samples_leaf=16; total time=   0.0s\n",
      "[CV] END ..criterion=ginni, max_depth=6, min_samples_leaf=21; total time=   0.0s\n",
      "[CV] END ..criterion=ginni, max_depth=6, min_samples_leaf=21; total time=   0.0s\n",
      "[CV] END ..criterion=ginni, max_depth=6, min_samples_leaf=21; total time=   0.0s\n",
      "[CV] END ..criterion=ginni, max_depth=6, min_samples_leaf=21; total time=   0.0s\n",
      "[CV] END ..criterion=ginni, max_depth=6, min_samples_leaf=21; total time=   0.0s\n",
      "[CV] END ..criterion=ginni, max_depth=6, min_samples_leaf=26; total time=   0.0s\n",
      "[CV] END ..criterion=ginni, max_depth=6, min_samples_leaf=26; total time=   0.0s\n",
      "[CV] END ..criterion=ginni, max_depth=6, min_samples_leaf=26; total time=   0.0s\n",
      "[CV] END ..criterion=ginni, max_depth=6, min_samples_leaf=26; total time=   0.0s\n",
      "[CV] END ..criterion=ginni, max_depth=6, min_samples_leaf=26; total time=   0.0s\n",
      "[CV] END ..criterion=ginni, max_depth=6, min_samples_leaf=31; total time=   0.0s\n",
      "[CV] END ..criterion=ginni, max_depth=6, min_samples_leaf=31; total time=   0.0s\n",
      "[CV] END ..criterion=ginni, max_depth=6, min_samples_leaf=31; total time=   0.0s\n",
      "[CV] END ..criterion=ginni, max_depth=6, min_samples_leaf=31; total time=   0.0s\n",
      "[CV] END ..criterion=ginni, max_depth=6, min_samples_leaf=31; total time=   0.0s\n",
      "[CV] END ..criterion=ginni, max_depth=6, min_samples_leaf=36; total time=   0.0s\n",
      "[CV] END ..criterion=ginni, max_depth=6, min_samples_leaf=36; total time=   0.0s\n",
      "[CV] END ..criterion=ginni, max_depth=6, min_samples_leaf=36; total time=   0.0s\n",
      "[CV] END ..criterion=ginni, max_depth=6, min_samples_leaf=36; total time=   0.0s\n",
      "[CV] END ..criterion=ginni, max_depth=6, min_samples_leaf=36; total time=   0.0s\n",
      "[CV] END ..criterion=ginni, max_depth=6, min_samples_leaf=41; total time=   0.0s\n",
      "[CV] END ..criterion=ginni, max_depth=6, min_samples_leaf=41; total time=   0.0s\n",
      "[CV] END ..criterion=ginni, max_depth=6, min_samples_leaf=41; total time=   0.0s\n",
      "[CV] END ..criterion=ginni, max_depth=6, min_samples_leaf=41; total time=   0.0s\n",
      "[CV] END ..criterion=ginni, max_depth=6, min_samples_leaf=41; total time=   0.0s\n",
      "[CV] END ..criterion=ginni, max_depth=6, min_samples_leaf=46; total time=   0.0s\n",
      "[CV] END ..criterion=ginni, max_depth=6, min_samples_leaf=46; total time=   0.0s\n",
      "[CV] END ..criterion=ginni, max_depth=6, min_samples_leaf=46; total time=   0.0s\n",
      "[CV] END ..criterion=ginni, max_depth=6, min_samples_leaf=46; total time=   0.0s\n",
      "[CV] END ..criterion=ginni, max_depth=6, min_samples_leaf=46; total time=   0.0s\n",
      "[CV] END ..criterion=ginni, max_depth=11, min_samples_leaf=1; total time=   0.0s\n",
      "[CV] END ..criterion=ginni, max_depth=11, min_samples_leaf=1; total time=   0.0s\n",
      "[CV] END ..criterion=ginni, max_depth=11, min_samples_leaf=1; total time=   0.0s\n",
      "[CV] END ..criterion=ginni, max_depth=11, min_samples_leaf=1; total time=   0.0s\n",
      "[CV] END ..criterion=ginni, max_depth=11, min_samples_leaf=1; total time=   0.0s\n"
     ]
    },
    {
     "name": "stdout",
     "output_type": "stream",
     "text": [
      "[CV] END ..criterion=ginni, max_depth=11, min_samples_leaf=6; total time=   0.0s\n",
      "[CV] END ..criterion=ginni, max_depth=11, min_samples_leaf=6; total time=   0.0s\n",
      "[CV] END ..criterion=ginni, max_depth=11, min_samples_leaf=6; total time=   0.0s\n",
      "[CV] END ..criterion=ginni, max_depth=11, min_samples_leaf=6; total time=   0.0s\n",
      "[CV] END ..criterion=ginni, max_depth=11, min_samples_leaf=6; total time=   0.0s\n",
      "[CV] END .criterion=ginni, max_depth=11, min_samples_leaf=11; total time=   0.0s\n",
      "[CV] END .criterion=ginni, max_depth=11, min_samples_leaf=11; total time=   0.0s\n",
      "[CV] END .criterion=ginni, max_depth=11, min_samples_leaf=11; total time=   0.0s\n",
      "[CV] END .criterion=ginni, max_depth=11, min_samples_leaf=11; total time=   0.0s\n",
      "[CV] END .criterion=ginni, max_depth=11, min_samples_leaf=11; total time=   0.0s\n",
      "[CV] END .criterion=ginni, max_depth=11, min_samples_leaf=16; total time=   0.0s\n",
      "[CV] END .criterion=ginni, max_depth=11, min_samples_leaf=16; total time=   0.0s\n",
      "[CV] END .criterion=ginni, max_depth=11, min_samples_leaf=16; total time=   0.0s\n",
      "[CV] END .criterion=ginni, max_depth=11, min_samples_leaf=16; total time=   0.0s\n",
      "[CV] END .criterion=ginni, max_depth=11, min_samples_leaf=16; total time=   0.0s\n",
      "[CV] END .criterion=ginni, max_depth=11, min_samples_leaf=21; total time=   0.0s\n",
      "[CV] END .criterion=ginni, max_depth=11, min_samples_leaf=21; total time=   0.0s\n",
      "[CV] END .criterion=ginni, max_depth=11, min_samples_leaf=21; total time=   0.0s\n",
      "[CV] END .criterion=ginni, max_depth=11, min_samples_leaf=21; total time=   0.0s\n",
      "[CV] END .criterion=ginni, max_depth=11, min_samples_leaf=21; total time=   0.0s\n",
      "[CV] END .criterion=ginni, max_depth=11, min_samples_leaf=26; total time=   0.0s\n",
      "[CV] END .criterion=ginni, max_depth=11, min_samples_leaf=26; total time=   0.0s\n",
      "[CV] END .criterion=ginni, max_depth=11, min_samples_leaf=26; total time=   0.0s\n",
      "[CV] END .criterion=ginni, max_depth=11, min_samples_leaf=26; total time=   0.0s\n",
      "[CV] END .criterion=ginni, max_depth=11, min_samples_leaf=26; total time=   0.0s\n",
      "[CV] END .criterion=ginni, max_depth=11, min_samples_leaf=31; total time=   0.0s\n",
      "[CV] END .criterion=ginni, max_depth=11, min_samples_leaf=31; total time=   0.0s\n",
      "[CV] END .criterion=ginni, max_depth=11, min_samples_leaf=31; total time=   0.0s\n",
      "[CV] END .criterion=ginni, max_depth=11, min_samples_leaf=31; total time=   0.0s\n",
      "[CV] END .criterion=ginni, max_depth=11, min_samples_leaf=31; total time=   0.0s\n",
      "[CV] END .criterion=ginni, max_depth=11, min_samples_leaf=36; total time=   0.0s\n",
      "[CV] END .criterion=ginni, max_depth=11, min_samples_leaf=36; total time=   0.0s\n",
      "[CV] END .criterion=ginni, max_depth=11, min_samples_leaf=36; total time=   0.0s\n",
      "[CV] END .criterion=ginni, max_depth=11, min_samples_leaf=36; total time=   0.0s\n",
      "[CV] END .criterion=ginni, max_depth=11, min_samples_leaf=36; total time=   0.0s\n",
      "[CV] END .criterion=ginni, max_depth=11, min_samples_leaf=41; total time=   0.0s\n",
      "[CV] END .criterion=ginni, max_depth=11, min_samples_leaf=41; total time=   0.0s\n",
      "[CV] END .criterion=ginni, max_depth=11, min_samples_leaf=41; total time=   0.0s\n",
      "[CV] END .criterion=ginni, max_depth=11, min_samples_leaf=41; total time=   0.0s\n",
      "[CV] END .criterion=ginni, max_depth=11, min_samples_leaf=41; total time=   0.0s\n",
      "[CV] END .criterion=ginni, max_depth=11, min_samples_leaf=46; total time=   0.0s\n",
      "[CV] END .criterion=ginni, max_depth=11, min_samples_leaf=46; total time=   0.0s\n",
      "[CV] END .criterion=ginni, max_depth=11, min_samples_leaf=46; total time=   0.0s\n",
      "[CV] END .criterion=ginni, max_depth=11, min_samples_leaf=46; total time=   0.0s\n",
      "[CV] END .criterion=ginni, max_depth=11, min_samples_leaf=46; total time=   0.0s\n",
      "[CV] END ..criterion=ginni, max_depth=16, min_samples_leaf=1; total time=   0.0s\n",
      "[CV] END ..criterion=ginni, max_depth=16, min_samples_leaf=1; total time=   0.0s\n",
      "[CV] END ..criterion=ginni, max_depth=16, min_samples_leaf=1; total time=   0.0s\n",
      "[CV] END ..criterion=ginni, max_depth=16, min_samples_leaf=1; total time=   0.0s\n",
      "[CV] END ..criterion=ginni, max_depth=16, min_samples_leaf=1; total time=   0.0s\n",
      "[CV] END ..criterion=ginni, max_depth=16, min_samples_leaf=6; total time=   0.0s\n",
      "[CV] END ..criterion=ginni, max_depth=16, min_samples_leaf=6; total time=   0.0s\n",
      "[CV] END ..criterion=ginni, max_depth=16, min_samples_leaf=6; total time=   0.0s\n",
      "[CV] END ..criterion=ginni, max_depth=16, min_samples_leaf=6; total time=   0.0s\n",
      "[CV] END ..criterion=ginni, max_depth=16, min_samples_leaf=6; total time=   0.0s\n",
      "[CV] END .criterion=ginni, max_depth=16, min_samples_leaf=11; total time=   0.0s\n",
      "[CV] END .criterion=ginni, max_depth=16, min_samples_leaf=11; total time=   0.0s\n",
      "[CV] END .criterion=ginni, max_depth=16, min_samples_leaf=11; total time=   0.0s\n",
      "[CV] END .criterion=ginni, max_depth=16, min_samples_leaf=11; total time=   0.0s\n",
      "[CV] END .criterion=ginni, max_depth=16, min_samples_leaf=11; total time=   0.0s\n",
      "[CV] END .criterion=ginni, max_depth=16, min_samples_leaf=16; total time=   0.0s\n",
      "[CV] END .criterion=ginni, max_depth=16, min_samples_leaf=16; total time=   0.0s\n",
      "[CV] END .criterion=ginni, max_depth=16, min_samples_leaf=16; total time=   0.0s\n",
      "[CV] END .criterion=ginni, max_depth=16, min_samples_leaf=16; total time=   0.0s\n",
      "[CV] END .criterion=ginni, max_depth=16, min_samples_leaf=16; total time=   0.0s\n",
      "[CV] END .criterion=ginni, max_depth=16, min_samples_leaf=21; total time=   0.0s\n",
      "[CV] END .criterion=ginni, max_depth=16, min_samples_leaf=21; total time=   0.0s\n",
      "[CV] END .criterion=ginni, max_depth=16, min_samples_leaf=21; total time=   0.0s\n",
      "[CV] END .criterion=ginni, max_depth=16, min_samples_leaf=21; total time=   0.0s\n",
      "[CV] END .criterion=ginni, max_depth=16, min_samples_leaf=21; total time=   0.0s\n",
      "[CV] END .criterion=ginni, max_depth=16, min_samples_leaf=26; total time=   0.0s\n",
      "[CV] END .criterion=ginni, max_depth=16, min_samples_leaf=26; total time=   0.0s\n",
      "[CV] END .criterion=ginni, max_depth=16, min_samples_leaf=26; total time=   0.0s\n",
      "[CV] END .criterion=ginni, max_depth=16, min_samples_leaf=26; total time=   0.0s\n",
      "[CV] END .criterion=ginni, max_depth=16, min_samples_leaf=26; total time=   0.0s\n",
      "[CV] END .criterion=ginni, max_depth=16, min_samples_leaf=31; total time=   0.0s\n",
      "[CV] END .criterion=ginni, max_depth=16, min_samples_leaf=31; total time=   0.0s\n",
      "[CV] END .criterion=ginni, max_depth=16, min_samples_leaf=31; total time=   0.0s\n",
      "[CV] END .criterion=ginni, max_depth=16, min_samples_leaf=31; total time=   0.0s\n",
      "[CV] END .criterion=ginni, max_depth=16, min_samples_leaf=31; total time=   0.0s\n",
      "[CV] END .criterion=ginni, max_depth=16, min_samples_leaf=36; total time=   0.0s\n",
      "[CV] END .criterion=ginni, max_depth=16, min_samples_leaf=36; total time=   0.0s\n",
      "[CV] END .criterion=ginni, max_depth=16, min_samples_leaf=36; total time=   0.0s\n",
      "[CV] END .criterion=ginni, max_depth=16, min_samples_leaf=36; total time=   0.0s\n",
      "[CV] END .criterion=ginni, max_depth=16, min_samples_leaf=36; total time=   0.0s\n",
      "[CV] END .criterion=ginni, max_depth=16, min_samples_leaf=41; total time=   0.0s\n",
      "[CV] END .criterion=ginni, max_depth=16, min_samples_leaf=41; total time=   0.0s\n",
      "[CV] END .criterion=ginni, max_depth=16, min_samples_leaf=41; total time=   0.0s\n",
      "[CV] END .criterion=ginni, max_depth=16, min_samples_leaf=41; total time=   0.0s\n",
      "[CV] END .criterion=ginni, max_depth=16, min_samples_leaf=41; total time=   0.0s\n",
      "[CV] END .criterion=ginni, max_depth=16, min_samples_leaf=46; total time=   0.0s\n",
      "[CV] END .criterion=ginni, max_depth=16, min_samples_leaf=46; total time=   0.0s\n",
      "[CV] END .criterion=ginni, max_depth=16, min_samples_leaf=46; total time=   0.0s\n",
      "[CV] END .criterion=ginni, max_depth=16, min_samples_leaf=46; total time=   0.0s\n",
      "[CV] END .criterion=ginni, max_depth=16, min_samples_leaf=46; total time=   0.0s\n",
      "[CV] END ..criterion=ginni, max_depth=21, min_samples_leaf=1; total time=   0.0s\n",
      "[CV] END ..criterion=ginni, max_depth=21, min_samples_leaf=1; total time=   0.0s\n",
      "[CV] END ..criterion=ginni, max_depth=21, min_samples_leaf=1; total time=   0.0s\n",
      "[CV] END ..criterion=ginni, max_depth=21, min_samples_leaf=1; total time=   0.0s\n",
      "[CV] END ..criterion=ginni, max_depth=21, min_samples_leaf=1; total time=   0.0s\n",
      "[CV] END ..criterion=ginni, max_depth=21, min_samples_leaf=6; total time=   0.0s\n",
      "[CV] END ..criterion=ginni, max_depth=21, min_samples_leaf=6; total time=   0.0s\n",
      "[CV] END ..criterion=ginni, max_depth=21, min_samples_leaf=6; total time=   0.0s\n",
      "[CV] END ..criterion=ginni, max_depth=21, min_samples_leaf=6; total time=   0.0s\n",
      "[CV] END ..criterion=ginni, max_depth=21, min_samples_leaf=6; total time=   0.0s\n",
      "[CV] END .criterion=ginni, max_depth=21, min_samples_leaf=11; total time=   0.0s\n",
      "[CV] END .criterion=ginni, max_depth=21, min_samples_leaf=11; total time=   0.0s\n",
      "[CV] END .criterion=ginni, max_depth=21, min_samples_leaf=11; total time=   0.0s\n",
      "[CV] END .criterion=ginni, max_depth=21, min_samples_leaf=11; total time=   0.0s\n",
      "[CV] END .criterion=ginni, max_depth=21, min_samples_leaf=11; total time=   0.0s\n",
      "[CV] END .criterion=ginni, max_depth=21, min_samples_leaf=16; total time=   0.0s\n",
      "[CV] END .criterion=ginni, max_depth=21, min_samples_leaf=16; total time=   0.0s\n",
      "[CV] END .criterion=ginni, max_depth=21, min_samples_leaf=16; total time=   0.0s\n",
      "[CV] END .criterion=ginni, max_depth=21, min_samples_leaf=16; total time=   0.0s\n",
      "[CV] END .criterion=ginni, max_depth=21, min_samples_leaf=16; total time=   0.0s\n",
      "[CV] END .criterion=ginni, max_depth=21, min_samples_leaf=21; total time=   0.0s\n",
      "[CV] END .criterion=ginni, max_depth=21, min_samples_leaf=21; total time=   0.0s\n",
      "[CV] END .criterion=ginni, max_depth=21, min_samples_leaf=21; total time=   0.0s\n",
      "[CV] END .criterion=ginni, max_depth=21, min_samples_leaf=21; total time=   0.0s\n",
      "[CV] END .criterion=ginni, max_depth=21, min_samples_leaf=21; total time=   0.0s\n",
      "[CV] END .criterion=ginni, max_depth=21, min_samples_leaf=26; total time=   0.0s\n",
      "[CV] END .criterion=ginni, max_depth=21, min_samples_leaf=26; total time=   0.0s\n",
      "[CV] END .criterion=ginni, max_depth=21, min_samples_leaf=26; total time=   0.0s\n",
      "[CV] END .criterion=ginni, max_depth=21, min_samples_leaf=26; total time=   0.0s\n",
      "[CV] END .criterion=ginni, max_depth=21, min_samples_leaf=26; total time=   0.0s\n",
      "[CV] END .criterion=ginni, max_depth=21, min_samples_leaf=31; total time=   0.0s\n",
      "[CV] END .criterion=ginni, max_depth=21, min_samples_leaf=31; total time=   0.0s\n",
      "[CV] END .criterion=ginni, max_depth=21, min_samples_leaf=31; total time=   0.0s\n",
      "[CV] END .criterion=ginni, max_depth=21, min_samples_leaf=31; total time=   0.0s\n",
      "[CV] END .criterion=ginni, max_depth=21, min_samples_leaf=31; total time=   0.0s\n"
     ]
    },
    {
     "name": "stdout",
     "output_type": "stream",
     "text": [
      "[CV] END .criterion=ginni, max_depth=21, min_samples_leaf=36; total time=   0.0s\n",
      "[CV] END .criterion=ginni, max_depth=21, min_samples_leaf=36; total time=   0.0s\n",
      "[CV] END .criterion=ginni, max_depth=21, min_samples_leaf=36; total time=   0.0s\n",
      "[CV] END .criterion=ginni, max_depth=21, min_samples_leaf=36; total time=   0.0s\n",
      "[CV] END .criterion=ginni, max_depth=21, min_samples_leaf=36; total time=   0.0s\n",
      "[CV] END .criterion=ginni, max_depth=21, min_samples_leaf=41; total time=   0.0s\n",
      "[CV] END .criterion=ginni, max_depth=21, min_samples_leaf=41; total time=   0.0s\n",
      "[CV] END .criterion=ginni, max_depth=21, min_samples_leaf=41; total time=   0.0s\n",
      "[CV] END .criterion=ginni, max_depth=21, min_samples_leaf=41; total time=   0.0s\n",
      "[CV] END .criterion=ginni, max_depth=21, min_samples_leaf=41; total time=   0.0s\n",
      "[CV] END .criterion=ginni, max_depth=21, min_samples_leaf=46; total time=   0.0s\n",
      "[CV] END .criterion=ginni, max_depth=21, min_samples_leaf=46; total time=   0.0s\n",
      "[CV] END .criterion=ginni, max_depth=21, min_samples_leaf=46; total time=   0.0s\n",
      "[CV] END .criterion=ginni, max_depth=21, min_samples_leaf=46; total time=   0.0s\n",
      "[CV] END .criterion=ginni, max_depth=21, min_samples_leaf=46; total time=   0.0s\n",
      "[CV] END ..criterion=ginni, max_depth=26, min_samples_leaf=1; total time=   0.0s\n",
      "[CV] END ..criterion=ginni, max_depth=26, min_samples_leaf=1; total time=   0.0s\n",
      "[CV] END ..criterion=ginni, max_depth=26, min_samples_leaf=1; total time=   0.0s\n",
      "[CV] END ..criterion=ginni, max_depth=26, min_samples_leaf=1; total time=   0.0s\n",
      "[CV] END ..criterion=ginni, max_depth=26, min_samples_leaf=1; total time=   0.0s\n",
      "[CV] END ..criterion=ginni, max_depth=26, min_samples_leaf=6; total time=   0.0s\n",
      "[CV] END ..criterion=ginni, max_depth=26, min_samples_leaf=6; total time=   0.0s\n",
      "[CV] END ..criterion=ginni, max_depth=26, min_samples_leaf=6; total time=   0.0s\n",
      "[CV] END ..criterion=ginni, max_depth=26, min_samples_leaf=6; total time=   0.0s\n",
      "[CV] END ..criterion=ginni, max_depth=26, min_samples_leaf=6; total time=   0.0s\n",
      "[CV] END .criterion=ginni, max_depth=26, min_samples_leaf=11; total time=   0.0s\n",
      "[CV] END .criterion=ginni, max_depth=26, min_samples_leaf=11; total time=   0.0s\n",
      "[CV] END .criterion=ginni, max_depth=26, min_samples_leaf=11; total time=   0.0s\n",
      "[CV] END .criterion=ginni, max_depth=26, min_samples_leaf=11; total time=   0.0s\n",
      "[CV] END .criterion=ginni, max_depth=26, min_samples_leaf=11; total time=   0.0s\n",
      "[CV] END .criterion=ginni, max_depth=26, min_samples_leaf=16; total time=   0.0s\n",
      "[CV] END .criterion=ginni, max_depth=26, min_samples_leaf=16; total time=   0.0s\n",
      "[CV] END .criterion=ginni, max_depth=26, min_samples_leaf=16; total time=   0.0s\n",
      "[CV] END .criterion=ginni, max_depth=26, min_samples_leaf=16; total time=   0.0s\n",
      "[CV] END .criterion=ginni, max_depth=26, min_samples_leaf=16; total time=   0.0s\n",
      "[CV] END .criterion=ginni, max_depth=26, min_samples_leaf=21; total time=   0.0s\n",
      "[CV] END .criterion=ginni, max_depth=26, min_samples_leaf=21; total time=   0.0s\n",
      "[CV] END .criterion=ginni, max_depth=26, min_samples_leaf=21; total time=   0.0s\n",
      "[CV] END .criterion=ginni, max_depth=26, min_samples_leaf=21; total time=   0.0s\n",
      "[CV] END .criterion=ginni, max_depth=26, min_samples_leaf=21; total time=   0.0s\n",
      "[CV] END .criterion=ginni, max_depth=26, min_samples_leaf=26; total time=   0.0s\n",
      "[CV] END .criterion=ginni, max_depth=26, min_samples_leaf=26; total time=   0.0s\n",
      "[CV] END .criterion=ginni, max_depth=26, min_samples_leaf=26; total time=   0.0s\n",
      "[CV] END .criterion=ginni, max_depth=26, min_samples_leaf=26; total time=   0.0s\n",
      "[CV] END .criterion=ginni, max_depth=26, min_samples_leaf=26; total time=   0.0s\n",
      "[CV] END .criterion=ginni, max_depth=26, min_samples_leaf=31; total time=   0.0s\n",
      "[CV] END .criterion=ginni, max_depth=26, min_samples_leaf=31; total time=   0.0s\n",
      "[CV] END .criterion=ginni, max_depth=26, min_samples_leaf=31; total time=   0.0s\n",
      "[CV] END .criterion=ginni, max_depth=26, min_samples_leaf=31; total time=   0.0s\n",
      "[CV] END .criterion=ginni, max_depth=26, min_samples_leaf=31; total time=   0.0s\n",
      "[CV] END .criterion=ginni, max_depth=26, min_samples_leaf=36; total time=   0.0s\n",
      "[CV] END .criterion=ginni, max_depth=26, min_samples_leaf=36; total time=   0.0s\n",
      "[CV] END .criterion=ginni, max_depth=26, min_samples_leaf=36; total time=   0.0s\n",
      "[CV] END .criterion=ginni, max_depth=26, min_samples_leaf=36; total time=   0.0s\n",
      "[CV] END .criterion=ginni, max_depth=26, min_samples_leaf=36; total time=   0.0s\n",
      "[CV] END .criterion=ginni, max_depth=26, min_samples_leaf=41; total time=   0.0s\n",
      "[CV] END .criterion=ginni, max_depth=26, min_samples_leaf=41; total time=   0.0s\n",
      "[CV] END .criterion=ginni, max_depth=26, min_samples_leaf=41; total time=   0.0s\n",
      "[CV] END .criterion=ginni, max_depth=26, min_samples_leaf=41; total time=   0.0s\n",
      "[CV] END .criterion=ginni, max_depth=26, min_samples_leaf=41; total time=   0.0s\n",
      "[CV] END .criterion=ginni, max_depth=26, min_samples_leaf=46; total time=   0.0s\n",
      "[CV] END .criterion=ginni, max_depth=26, min_samples_leaf=46; total time=   0.0s\n",
      "[CV] END .criterion=ginni, max_depth=26, min_samples_leaf=46; total time=   0.0s\n",
      "[CV] END .criterion=ginni, max_depth=26, min_samples_leaf=46; total time=   0.0s\n",
      "[CV] END .criterion=ginni, max_depth=26, min_samples_leaf=46; total time=   0.0s\n",
      "[CV] END ..criterion=ginni, max_depth=31, min_samples_leaf=1; total time=   0.0s\n",
      "[CV] END ..criterion=ginni, max_depth=31, min_samples_leaf=1; total time=   0.0s\n",
      "[CV] END ..criterion=ginni, max_depth=31, min_samples_leaf=1; total time=   0.0s\n",
      "[CV] END ..criterion=ginni, max_depth=31, min_samples_leaf=1; total time=   0.0s\n",
      "[CV] END ..criterion=ginni, max_depth=31, min_samples_leaf=1; total time=   0.0s\n",
      "[CV] END ..criterion=ginni, max_depth=31, min_samples_leaf=6; total time=   0.0s\n",
      "[CV] END ..criterion=ginni, max_depth=31, min_samples_leaf=6; total time=   0.0s\n",
      "[CV] END ..criterion=ginni, max_depth=31, min_samples_leaf=6; total time=   0.0s\n",
      "[CV] END ..criterion=ginni, max_depth=31, min_samples_leaf=6; total time=   0.0s\n",
      "[CV] END ..criterion=ginni, max_depth=31, min_samples_leaf=6; total time=   0.0s\n",
      "[CV] END .criterion=ginni, max_depth=31, min_samples_leaf=11; total time=   0.0s\n",
      "[CV] END .criterion=ginni, max_depth=31, min_samples_leaf=11; total time=   0.0s\n",
      "[CV] END .criterion=ginni, max_depth=31, min_samples_leaf=11; total time=   0.0s\n",
      "[CV] END .criterion=ginni, max_depth=31, min_samples_leaf=11; total time=   0.0s\n",
      "[CV] END .criterion=ginni, max_depth=31, min_samples_leaf=11; total time=   0.0s\n",
      "[CV] END .criterion=ginni, max_depth=31, min_samples_leaf=16; total time=   0.0s\n",
      "[CV] END .criterion=ginni, max_depth=31, min_samples_leaf=16; total time=   0.0s\n",
      "[CV] END .criterion=ginni, max_depth=31, min_samples_leaf=16; total time=   0.0s\n",
      "[CV] END .criterion=ginni, max_depth=31, min_samples_leaf=16; total time=   0.0s\n",
      "[CV] END .criterion=ginni, max_depth=31, min_samples_leaf=16; total time=   0.0s\n",
      "[CV] END .criterion=ginni, max_depth=31, min_samples_leaf=21; total time=   0.0s\n",
      "[CV] END .criterion=ginni, max_depth=31, min_samples_leaf=21; total time=   0.0s\n",
      "[CV] END .criterion=ginni, max_depth=31, min_samples_leaf=21; total time=   0.0s\n",
      "[CV] END .criterion=ginni, max_depth=31, min_samples_leaf=21; total time=   0.0s\n",
      "[CV] END .criterion=ginni, max_depth=31, min_samples_leaf=21; total time=   0.0s\n",
      "[CV] END .criterion=ginni, max_depth=31, min_samples_leaf=26; total time=   0.0s\n",
      "[CV] END .criterion=ginni, max_depth=31, min_samples_leaf=26; total time=   0.0s\n",
      "[CV] END .criterion=ginni, max_depth=31, min_samples_leaf=26; total time=   0.0s\n",
      "[CV] END .criterion=ginni, max_depth=31, min_samples_leaf=26; total time=   0.0s\n",
      "[CV] END .criterion=ginni, max_depth=31, min_samples_leaf=26; total time=   0.0s\n",
      "[CV] END .criterion=ginni, max_depth=31, min_samples_leaf=31; total time=   0.0s\n",
      "[CV] END .criterion=ginni, max_depth=31, min_samples_leaf=31; total time=   0.0s\n",
      "[CV] END .criterion=ginni, max_depth=31, min_samples_leaf=31; total time=   0.0s\n",
      "[CV] END .criterion=ginni, max_depth=31, min_samples_leaf=31; total time=   0.0s\n",
      "[CV] END .criterion=ginni, max_depth=31, min_samples_leaf=31; total time=   0.0s\n",
      "[CV] END .criterion=ginni, max_depth=31, min_samples_leaf=36; total time=   0.0s\n",
      "[CV] END .criterion=ginni, max_depth=31, min_samples_leaf=36; total time=   0.0s\n",
      "[CV] END .criterion=ginni, max_depth=31, min_samples_leaf=36; total time=   0.0s\n",
      "[CV] END .criterion=ginni, max_depth=31, min_samples_leaf=36; total time=   0.0s\n",
      "[CV] END .criterion=ginni, max_depth=31, min_samples_leaf=36; total time=   0.0s\n",
      "[CV] END .criterion=ginni, max_depth=31, min_samples_leaf=41; total time=   0.0s\n",
      "[CV] END .criterion=ginni, max_depth=31, min_samples_leaf=41; total time=   0.0s\n",
      "[CV] END .criterion=ginni, max_depth=31, min_samples_leaf=41; total time=   0.0s\n",
      "[CV] END .criterion=ginni, max_depth=31, min_samples_leaf=41; total time=   0.0s\n",
      "[CV] END .criterion=ginni, max_depth=31, min_samples_leaf=41; total time=   0.0s\n",
      "[CV] END .criterion=ginni, max_depth=31, min_samples_leaf=46; total time=   0.0s\n",
      "[CV] END .criterion=ginni, max_depth=31, min_samples_leaf=46; total time=   0.0s\n",
      "[CV] END .criterion=ginni, max_depth=31, min_samples_leaf=46; total time=   0.0s\n",
      "[CV] END .criterion=ginni, max_depth=31, min_samples_leaf=46; total time=   0.0s\n",
      "[CV] END .criterion=ginni, max_depth=31, min_samples_leaf=46; total time=   0.0s\n",
      "[CV] END ..criterion=ginni, max_depth=36, min_samples_leaf=1; total time=   0.0s\n",
      "[CV] END ..criterion=ginni, max_depth=36, min_samples_leaf=1; total time=   0.0s\n",
      "[CV] END ..criterion=ginni, max_depth=36, min_samples_leaf=1; total time=   0.0s\n",
      "[CV] END ..criterion=ginni, max_depth=36, min_samples_leaf=1; total time=   0.0s\n",
      "[CV] END ..criterion=ginni, max_depth=36, min_samples_leaf=1; total time=   0.0s\n",
      "[CV] END ..criterion=ginni, max_depth=36, min_samples_leaf=6; total time=   0.0s\n",
      "[CV] END ..criterion=ginni, max_depth=36, min_samples_leaf=6; total time=   0.0s\n",
      "[CV] END ..criterion=ginni, max_depth=36, min_samples_leaf=6; total time=   0.0s\n",
      "[CV] END ..criterion=ginni, max_depth=36, min_samples_leaf=6; total time=   0.0s\n",
      "[CV] END ..criterion=ginni, max_depth=36, min_samples_leaf=6; total time=   0.0s\n",
      "[CV] END .criterion=ginni, max_depth=36, min_samples_leaf=11; total time=   0.0s\n",
      "[CV] END .criterion=ginni, max_depth=36, min_samples_leaf=11; total time=   0.0s\n",
      "[CV] END .criterion=ginni, max_depth=36, min_samples_leaf=11; total time=   0.0s\n",
      "[CV] END .criterion=ginni, max_depth=36, min_samples_leaf=11; total time=   0.0s\n",
      "[CV] END .criterion=ginni, max_depth=36, min_samples_leaf=11; total time=   0.0s\n",
      "[CV] END .criterion=ginni, max_depth=36, min_samples_leaf=16; total time=   0.0s\n",
      "[CV] END .criterion=ginni, max_depth=36, min_samples_leaf=16; total time=   0.0s\n",
      "[CV] END .criterion=ginni, max_depth=36, min_samples_leaf=16; total time=   0.0s\n",
      "[CV] END .criterion=ginni, max_depth=36, min_samples_leaf=16; total time=   0.0s\n",
      "[CV] END .criterion=ginni, max_depth=36, min_samples_leaf=16; total time=   0.0s\n",
      "[CV] END .criterion=ginni, max_depth=36, min_samples_leaf=21; total time=   0.0s\n",
      "[CV] END .criterion=ginni, max_depth=36, min_samples_leaf=21; total time=   0.0s\n"
     ]
    },
    {
     "name": "stdout",
     "output_type": "stream",
     "text": [
      "[CV] END .criterion=ginni, max_depth=36, min_samples_leaf=21; total time=   0.0s\n",
      "[CV] END .criterion=ginni, max_depth=36, min_samples_leaf=21; total time=   0.0s\n",
      "[CV] END .criterion=ginni, max_depth=36, min_samples_leaf=21; total time=   0.0s\n",
      "[CV] END .criterion=ginni, max_depth=36, min_samples_leaf=26; total time=   0.0s\n",
      "[CV] END .criterion=ginni, max_depth=36, min_samples_leaf=26; total time=   0.0s\n",
      "[CV] END .criterion=ginni, max_depth=36, min_samples_leaf=26; total time=   0.0s\n",
      "[CV] END .criterion=ginni, max_depth=36, min_samples_leaf=26; total time=   0.0s\n",
      "[CV] END .criterion=ginni, max_depth=36, min_samples_leaf=26; total time=   0.0s\n",
      "[CV] END .criterion=ginni, max_depth=36, min_samples_leaf=31; total time=   0.0s\n",
      "[CV] END .criterion=ginni, max_depth=36, min_samples_leaf=31; total time=   0.0s\n",
      "[CV] END .criterion=ginni, max_depth=36, min_samples_leaf=31; total time=   0.0s\n",
      "[CV] END .criterion=ginni, max_depth=36, min_samples_leaf=31; total time=   0.0s\n",
      "[CV] END .criterion=ginni, max_depth=36, min_samples_leaf=31; total time=   0.0s\n",
      "[CV] END .criterion=ginni, max_depth=36, min_samples_leaf=36; total time=   0.0s\n",
      "[CV] END .criterion=ginni, max_depth=36, min_samples_leaf=36; total time=   0.0s\n",
      "[CV] END .criterion=ginni, max_depth=36, min_samples_leaf=36; total time=   0.0s\n",
      "[CV] END .criterion=ginni, max_depth=36, min_samples_leaf=36; total time=   0.0s\n",
      "[CV] END .criterion=ginni, max_depth=36, min_samples_leaf=36; total time=   0.0s\n",
      "[CV] END .criterion=ginni, max_depth=36, min_samples_leaf=41; total time=   0.0s\n",
      "[CV] END .criterion=ginni, max_depth=36, min_samples_leaf=41; total time=   0.0s\n",
      "[CV] END .criterion=ginni, max_depth=36, min_samples_leaf=41; total time=   0.0s\n",
      "[CV] END .criterion=ginni, max_depth=36, min_samples_leaf=41; total time=   0.0s\n",
      "[CV] END .criterion=ginni, max_depth=36, min_samples_leaf=41; total time=   0.0s\n",
      "[CV] END .criterion=ginni, max_depth=36, min_samples_leaf=46; total time=   0.0s\n",
      "[CV] END .criterion=ginni, max_depth=36, min_samples_leaf=46; total time=   0.0s\n",
      "[CV] END .criterion=ginni, max_depth=36, min_samples_leaf=46; total time=   0.0s\n",
      "[CV] END .criterion=ginni, max_depth=36, min_samples_leaf=46; total time=   0.0s\n",
      "[CV] END .criterion=ginni, max_depth=36, min_samples_leaf=46; total time=   0.0s\n",
      "[CV] END ..criterion=ginni, max_depth=41, min_samples_leaf=1; total time=   0.0s\n",
      "[CV] END ..criterion=ginni, max_depth=41, min_samples_leaf=1; total time=   0.0s\n",
      "[CV] END ..criterion=ginni, max_depth=41, min_samples_leaf=1; total time=   0.0s\n",
      "[CV] END ..criterion=ginni, max_depth=41, min_samples_leaf=1; total time=   0.0s\n",
      "[CV] END ..criterion=ginni, max_depth=41, min_samples_leaf=1; total time=   0.0s\n",
      "[CV] END ..criterion=ginni, max_depth=41, min_samples_leaf=6; total time=   0.0s\n",
      "[CV] END ..criterion=ginni, max_depth=41, min_samples_leaf=6; total time=   0.0s\n",
      "[CV] END ..criterion=ginni, max_depth=41, min_samples_leaf=6; total time=   0.0s\n",
      "[CV] END ..criterion=ginni, max_depth=41, min_samples_leaf=6; total time=   0.0s\n",
      "[CV] END ..criterion=ginni, max_depth=41, min_samples_leaf=6; total time=   0.0s\n",
      "[CV] END .criterion=ginni, max_depth=41, min_samples_leaf=11; total time=   0.0s\n",
      "[CV] END .criterion=ginni, max_depth=41, min_samples_leaf=11; total time=   0.0s\n",
      "[CV] END .criterion=ginni, max_depth=41, min_samples_leaf=11; total time=   0.0s\n",
      "[CV] END .criterion=ginni, max_depth=41, min_samples_leaf=11; total time=   0.0s\n",
      "[CV] END .criterion=ginni, max_depth=41, min_samples_leaf=11; total time=   0.0s\n",
      "[CV] END .criterion=ginni, max_depth=41, min_samples_leaf=16; total time=   0.0s\n",
      "[CV] END .criterion=ginni, max_depth=41, min_samples_leaf=16; total time=   0.0s\n",
      "[CV] END .criterion=ginni, max_depth=41, min_samples_leaf=16; total time=   0.0s\n",
      "[CV] END .criterion=ginni, max_depth=41, min_samples_leaf=16; total time=   0.0s\n",
      "[CV] END .criterion=ginni, max_depth=41, min_samples_leaf=16; total time=   0.0s\n",
      "[CV] END .criterion=ginni, max_depth=41, min_samples_leaf=21; total time=   0.0s\n",
      "[CV] END .criterion=ginni, max_depth=41, min_samples_leaf=21; total time=   0.0s\n",
      "[CV] END .criterion=ginni, max_depth=41, min_samples_leaf=21; total time=   0.0s\n",
      "[CV] END .criterion=ginni, max_depth=41, min_samples_leaf=21; total time=   0.0s\n",
      "[CV] END .criterion=ginni, max_depth=41, min_samples_leaf=21; total time=   0.0s\n",
      "[CV] END .criterion=ginni, max_depth=41, min_samples_leaf=26; total time=   0.0s\n",
      "[CV] END .criterion=ginni, max_depth=41, min_samples_leaf=26; total time=   0.0s\n",
      "[CV] END .criterion=ginni, max_depth=41, min_samples_leaf=26; total time=   0.0s\n",
      "[CV] END .criterion=ginni, max_depth=41, min_samples_leaf=26; total time=   0.0s\n",
      "[CV] END .criterion=ginni, max_depth=41, min_samples_leaf=26; total time=   0.0s\n",
      "[CV] END .criterion=ginni, max_depth=41, min_samples_leaf=31; total time=   0.0s\n",
      "[CV] END .criterion=ginni, max_depth=41, min_samples_leaf=31; total time=   0.0s\n",
      "[CV] END .criterion=ginni, max_depth=41, min_samples_leaf=31; total time=   0.0s\n",
      "[CV] END .criterion=ginni, max_depth=41, min_samples_leaf=31; total time=   0.0s\n",
      "[CV] END .criterion=ginni, max_depth=41, min_samples_leaf=31; total time=   0.0s\n",
      "[CV] END .criterion=ginni, max_depth=41, min_samples_leaf=36; total time=   0.0s\n",
      "[CV] END .criterion=ginni, max_depth=41, min_samples_leaf=36; total time=   0.0s\n",
      "[CV] END .criterion=ginni, max_depth=41, min_samples_leaf=36; total time=   0.0s\n",
      "[CV] END .criterion=ginni, max_depth=41, min_samples_leaf=36; total time=   0.0s\n",
      "[CV] END .criterion=ginni, max_depth=41, min_samples_leaf=36; total time=   0.0s\n",
      "[CV] END .criterion=ginni, max_depth=41, min_samples_leaf=41; total time=   0.0s\n",
      "[CV] END .criterion=ginni, max_depth=41, min_samples_leaf=41; total time=   0.0s\n",
      "[CV] END .criterion=ginni, max_depth=41, min_samples_leaf=41; total time=   0.0s\n",
      "[CV] END .criterion=ginni, max_depth=41, min_samples_leaf=41; total time=   0.0s\n",
      "[CV] END .criterion=ginni, max_depth=41, min_samples_leaf=41; total time=   0.0s\n",
      "[CV] END .criterion=ginni, max_depth=41, min_samples_leaf=46; total time=   0.0s\n",
      "[CV] END .criterion=ginni, max_depth=41, min_samples_leaf=46; total time=   0.0s\n",
      "[CV] END .criterion=ginni, max_depth=41, min_samples_leaf=46; total time=   0.0s\n",
      "[CV] END .criterion=ginni, max_depth=41, min_samples_leaf=46; total time=   0.0s\n",
      "[CV] END .criterion=ginni, max_depth=41, min_samples_leaf=46; total time=   0.0s\n",
      "[CV] END ..criterion=ginni, max_depth=46, min_samples_leaf=1; total time=   0.0s\n",
      "[CV] END ..criterion=ginni, max_depth=46, min_samples_leaf=1; total time=   0.0s\n",
      "[CV] END ..criterion=ginni, max_depth=46, min_samples_leaf=1; total time=   0.0s\n",
      "[CV] END ..criterion=ginni, max_depth=46, min_samples_leaf=1; total time=   0.0s\n",
      "[CV] END ..criterion=ginni, max_depth=46, min_samples_leaf=1; total time=   0.0s\n",
      "[CV] END ..criterion=ginni, max_depth=46, min_samples_leaf=6; total time=   0.0s\n",
      "[CV] END ..criterion=ginni, max_depth=46, min_samples_leaf=6; total time=   0.0s\n",
      "[CV] END ..criterion=ginni, max_depth=46, min_samples_leaf=6; total time=   0.0s\n",
      "[CV] END ..criterion=ginni, max_depth=46, min_samples_leaf=6; total time=   0.0s\n",
      "[CV] END ..criterion=ginni, max_depth=46, min_samples_leaf=6; total time=   0.0s\n",
      "[CV] END .criterion=ginni, max_depth=46, min_samples_leaf=11; total time=   0.0s\n",
      "[CV] END .criterion=ginni, max_depth=46, min_samples_leaf=11; total time=   0.0s\n",
      "[CV] END .criterion=ginni, max_depth=46, min_samples_leaf=11; total time=   0.0s\n",
      "[CV] END .criterion=ginni, max_depth=46, min_samples_leaf=11; total time=   0.0s\n",
      "[CV] END .criterion=ginni, max_depth=46, min_samples_leaf=11; total time=   0.0s\n",
      "[CV] END .criterion=ginni, max_depth=46, min_samples_leaf=16; total time=   0.0s\n",
      "[CV] END .criterion=ginni, max_depth=46, min_samples_leaf=16; total time=   0.0s\n",
      "[CV] END .criterion=ginni, max_depth=46, min_samples_leaf=16; total time=   0.0s\n",
      "[CV] END .criterion=ginni, max_depth=46, min_samples_leaf=16; total time=   0.0s\n",
      "[CV] END .criterion=ginni, max_depth=46, min_samples_leaf=16; total time=   0.0s\n",
      "[CV] END .criterion=ginni, max_depth=46, min_samples_leaf=21; total time=   0.0s\n",
      "[CV] END .criterion=ginni, max_depth=46, min_samples_leaf=21; total time=   0.0s\n",
      "[CV] END .criterion=ginni, max_depth=46, min_samples_leaf=21; total time=   0.0s\n",
      "[CV] END .criterion=ginni, max_depth=46, min_samples_leaf=21; total time=   0.0s\n",
      "[CV] END .criterion=ginni, max_depth=46, min_samples_leaf=21; total time=   0.0s\n",
      "[CV] END .criterion=ginni, max_depth=46, min_samples_leaf=26; total time=   0.0s\n",
      "[CV] END .criterion=ginni, max_depth=46, min_samples_leaf=26; total time=   0.0s\n",
      "[CV] END .criterion=ginni, max_depth=46, min_samples_leaf=26; total time=   0.0s\n",
      "[CV] END .criterion=ginni, max_depth=46, min_samples_leaf=26; total time=   0.0s\n",
      "[CV] END .criterion=ginni, max_depth=46, min_samples_leaf=26; total time=   0.0s\n",
      "[CV] END .criterion=ginni, max_depth=46, min_samples_leaf=31; total time=   0.0s\n",
      "[CV] END .criterion=ginni, max_depth=46, min_samples_leaf=31; total time=   0.0s\n",
      "[CV] END .criterion=ginni, max_depth=46, min_samples_leaf=31; total time=   0.0s\n",
      "[CV] END .criterion=ginni, max_depth=46, min_samples_leaf=31; total time=   0.0s\n",
      "[CV] END .criterion=ginni, max_depth=46, min_samples_leaf=31; total time=   0.0s\n",
      "[CV] END .criterion=ginni, max_depth=46, min_samples_leaf=36; total time=   0.0s\n",
      "[CV] END .criterion=ginni, max_depth=46, min_samples_leaf=36; total time=   0.0s\n",
      "[CV] END .criterion=ginni, max_depth=46, min_samples_leaf=36; total time=   0.0s\n",
      "[CV] END .criterion=ginni, max_depth=46, min_samples_leaf=36; total time=   0.0s\n",
      "[CV] END .criterion=ginni, max_depth=46, min_samples_leaf=36; total time=   0.0s\n",
      "[CV] END .criterion=ginni, max_depth=46, min_samples_leaf=41; total time=   0.0s\n",
      "[CV] END .criterion=ginni, max_depth=46, min_samples_leaf=41; total time=   0.0s\n",
      "[CV] END .criterion=ginni, max_depth=46, min_samples_leaf=41; total time=   0.0s\n",
      "[CV] END .criterion=ginni, max_depth=46, min_samples_leaf=41; total time=   0.0s\n",
      "[CV] END .criterion=ginni, max_depth=46, min_samples_leaf=41; total time=   0.0s\n",
      "[CV] END .criterion=ginni, max_depth=46, min_samples_leaf=46; total time=   0.0s\n",
      "[CV] END .criterion=ginni, max_depth=46, min_samples_leaf=46; total time=   0.0s\n"
     ]
    },
    {
     "name": "stdout",
     "output_type": "stream",
     "text": [
      "[CV] END .criterion=ginni, max_depth=46, min_samples_leaf=46; total time=   0.0s\n",
      "[CV] END .criterion=ginni, max_depth=46, min_samples_leaf=46; total time=   0.0s\n",
      "[CV] END .criterion=ginni, max_depth=46, min_samples_leaf=46; total time=   0.0s\n",
      "[CV] END .criterion=entropy, max_depth=1, min_samples_leaf=1; total time=   0.0s\n",
      "[CV] END .criterion=entropy, max_depth=1, min_samples_leaf=1; total time=   0.0s\n",
      "[CV] END .criterion=entropy, max_depth=1, min_samples_leaf=1; total time=   0.0s\n",
      "[CV] END .criterion=entropy, max_depth=1, min_samples_leaf=1; total time=   0.0s\n",
      "[CV] END .criterion=entropy, max_depth=1, min_samples_leaf=1; total time=   0.0s\n",
      "[CV] END .criterion=entropy, max_depth=1, min_samples_leaf=6; total time=   0.0s\n",
      "[CV] END .criterion=entropy, max_depth=1, min_samples_leaf=6; total time=   0.0s\n",
      "[CV] END .criterion=entropy, max_depth=1, min_samples_leaf=6; total time=   0.0s\n",
      "[CV] END .criterion=entropy, max_depth=1, min_samples_leaf=6; total time=   0.0s\n",
      "[CV] END .criterion=entropy, max_depth=1, min_samples_leaf=6; total time=   0.0s\n",
      "[CV] END criterion=entropy, max_depth=1, min_samples_leaf=11; total time=   0.0s\n",
      "[CV] END criterion=entropy, max_depth=1, min_samples_leaf=11; total time=   0.0s\n",
      "[CV] END criterion=entropy, max_depth=1, min_samples_leaf=11; total time=   0.0s\n",
      "[CV] END criterion=entropy, max_depth=1, min_samples_leaf=11; total time=   0.0s\n",
      "[CV] END criterion=entropy, max_depth=1, min_samples_leaf=11; total time=   0.0s\n",
      "[CV] END criterion=entropy, max_depth=1, min_samples_leaf=16; total time=   0.0s\n",
      "[CV] END criterion=entropy, max_depth=1, min_samples_leaf=16; total time=   0.0s\n",
      "[CV] END criterion=entropy, max_depth=1, min_samples_leaf=16; total time=   0.0s\n",
      "[CV] END criterion=entropy, max_depth=1, min_samples_leaf=16; total time=   0.0s\n",
      "[CV] END criterion=entropy, max_depth=1, min_samples_leaf=16; total time=   0.0s\n",
      "[CV] END criterion=entropy, max_depth=1, min_samples_leaf=21; total time=   0.0s\n",
      "[CV] END criterion=entropy, max_depth=1, min_samples_leaf=21; total time=   0.0s\n",
      "[CV] END criterion=entropy, max_depth=1, min_samples_leaf=21; total time=   0.0s\n",
      "[CV] END criterion=entropy, max_depth=1, min_samples_leaf=21; total time=   0.0s\n",
      "[CV] END criterion=entropy, max_depth=1, min_samples_leaf=21; total time=   0.0s\n",
      "[CV] END criterion=entropy, max_depth=1, min_samples_leaf=26; total time=   0.0s\n",
      "[CV] END criterion=entropy, max_depth=1, min_samples_leaf=26; total time=   0.0s\n",
      "[CV] END criterion=entropy, max_depth=1, min_samples_leaf=26; total time=   0.0s\n",
      "[CV] END criterion=entropy, max_depth=1, min_samples_leaf=26; total time=   0.0s\n",
      "[CV] END criterion=entropy, max_depth=1, min_samples_leaf=26; total time=   0.0s\n",
      "[CV] END criterion=entropy, max_depth=1, min_samples_leaf=31; total time=   0.0s\n",
      "[CV] END criterion=entropy, max_depth=1, min_samples_leaf=31; total time=   0.0s\n",
      "[CV] END criterion=entropy, max_depth=1, min_samples_leaf=31; total time=   0.0s\n",
      "[CV] END criterion=entropy, max_depth=1, min_samples_leaf=31; total time=   0.0s\n",
      "[CV] END criterion=entropy, max_depth=1, min_samples_leaf=31; total time=   0.0s\n",
      "[CV] END criterion=entropy, max_depth=1, min_samples_leaf=36; total time=   0.0s\n",
      "[CV] END criterion=entropy, max_depth=1, min_samples_leaf=36; total time=   0.0s\n",
      "[CV] END criterion=entropy, max_depth=1, min_samples_leaf=36; total time=   0.0s\n",
      "[CV] END criterion=entropy, max_depth=1, min_samples_leaf=36; total time=   0.0s\n",
      "[CV] END criterion=entropy, max_depth=1, min_samples_leaf=36; total time=   0.0s\n",
      "[CV] END criterion=entropy, max_depth=1, min_samples_leaf=41; total time=   0.0s\n",
      "[CV] END criterion=entropy, max_depth=1, min_samples_leaf=41; total time=   0.0s\n",
      "[CV] END criterion=entropy, max_depth=1, min_samples_leaf=41; total time=   0.0s\n",
      "[CV] END criterion=entropy, max_depth=1, min_samples_leaf=41; total time=   0.0s\n",
      "[CV] END criterion=entropy, max_depth=1, min_samples_leaf=41; total time=   0.0s\n",
      "[CV] END criterion=entropy, max_depth=1, min_samples_leaf=46; total time=   0.0s\n",
      "[CV] END criterion=entropy, max_depth=1, min_samples_leaf=46; total time=   0.0s\n",
      "[CV] END criterion=entropy, max_depth=1, min_samples_leaf=46; total time=   0.0s\n",
      "[CV] END criterion=entropy, max_depth=1, min_samples_leaf=46; total time=   0.0s\n",
      "[CV] END criterion=entropy, max_depth=1, min_samples_leaf=46; total time=   0.0s\n",
      "[CV] END .criterion=entropy, max_depth=6, min_samples_leaf=1; total time=   0.0s\n",
      "[CV] END .criterion=entropy, max_depth=6, min_samples_leaf=1; total time=   0.0s\n",
      "[CV] END .criterion=entropy, max_depth=6, min_samples_leaf=1; total time=   0.0s\n",
      "[CV] END .criterion=entropy, max_depth=6, min_samples_leaf=1; total time=   0.0s\n",
      "[CV] END .criterion=entropy, max_depth=6, min_samples_leaf=1; total time=   0.0s\n",
      "[CV] END .criterion=entropy, max_depth=6, min_samples_leaf=6; total time=   0.0s\n",
      "[CV] END .criterion=entropy, max_depth=6, min_samples_leaf=6; total time=   0.0s\n",
      "[CV] END .criterion=entropy, max_depth=6, min_samples_leaf=6; total time=   0.0s\n",
      "[CV] END .criterion=entropy, max_depth=6, min_samples_leaf=6; total time=   0.0s\n",
      "[CV] END .criterion=entropy, max_depth=6, min_samples_leaf=6; total time=   0.0s\n",
      "[CV] END criterion=entropy, max_depth=6, min_samples_leaf=11; total time=   0.0s\n",
      "[CV] END criterion=entropy, max_depth=6, min_samples_leaf=11; total time=   0.0s\n",
      "[CV] END criterion=entropy, max_depth=6, min_samples_leaf=11; total time=   0.0s\n",
      "[CV] END criterion=entropy, max_depth=6, min_samples_leaf=11; total time=   0.0s\n",
      "[CV] END criterion=entropy, max_depth=6, min_samples_leaf=11; total time=   0.0s\n",
      "[CV] END criterion=entropy, max_depth=6, min_samples_leaf=16; total time=   0.0s\n",
      "[CV] END criterion=entropy, max_depth=6, min_samples_leaf=16; total time=   0.0s\n",
      "[CV] END criterion=entropy, max_depth=6, min_samples_leaf=16; total time=   0.0s\n",
      "[CV] END criterion=entropy, max_depth=6, min_samples_leaf=16; total time=   0.0s\n",
      "[CV] END criterion=entropy, max_depth=6, min_samples_leaf=16; total time=   0.0s\n",
      "[CV] END criterion=entropy, max_depth=6, min_samples_leaf=21; total time=   0.0s\n",
      "[CV] END criterion=entropy, max_depth=6, min_samples_leaf=21; total time=   0.0s\n",
      "[CV] END criterion=entropy, max_depth=6, min_samples_leaf=21; total time=   0.0s\n",
      "[CV] END criterion=entropy, max_depth=6, min_samples_leaf=21; total time=   0.0s\n",
      "[CV] END criterion=entropy, max_depth=6, min_samples_leaf=21; total time=   0.0s\n",
      "[CV] END criterion=entropy, max_depth=6, min_samples_leaf=26; total time=   0.0s\n",
      "[CV] END criterion=entropy, max_depth=6, min_samples_leaf=26; total time=   0.0s\n",
      "[CV] END criterion=entropy, max_depth=6, min_samples_leaf=26; total time=   0.0s\n",
      "[CV] END criterion=entropy, max_depth=6, min_samples_leaf=26; total time=   0.0s\n",
      "[CV] END criterion=entropy, max_depth=6, min_samples_leaf=26; total time=   0.0s\n",
      "[CV] END criterion=entropy, max_depth=6, min_samples_leaf=31; total time=   0.0s\n",
      "[CV] END criterion=entropy, max_depth=6, min_samples_leaf=31; total time=   0.0s\n",
      "[CV] END criterion=entropy, max_depth=6, min_samples_leaf=31; total time=   0.0s\n",
      "[CV] END criterion=entropy, max_depth=6, min_samples_leaf=31; total time=   0.0s\n",
      "[CV] END criterion=entropy, max_depth=6, min_samples_leaf=31; total time=   0.0s\n",
      "[CV] END criterion=entropy, max_depth=6, min_samples_leaf=36; total time=   0.0s\n",
      "[CV] END criterion=entropy, max_depth=6, min_samples_leaf=36; total time=   0.0s\n",
      "[CV] END criterion=entropy, max_depth=6, min_samples_leaf=36; total time=   0.0s\n",
      "[CV] END criterion=entropy, max_depth=6, min_samples_leaf=36; total time=   0.0s\n",
      "[CV] END criterion=entropy, max_depth=6, min_samples_leaf=36; total time=   0.0s\n",
      "[CV] END criterion=entropy, max_depth=6, min_samples_leaf=41; total time=   0.0s\n",
      "[CV] END criterion=entropy, max_depth=6, min_samples_leaf=41; total time=   0.0s\n",
      "[CV] END criterion=entropy, max_depth=6, min_samples_leaf=41; total time=   0.0s\n",
      "[CV] END criterion=entropy, max_depth=6, min_samples_leaf=41; total time=   0.0s\n",
      "[CV] END criterion=entropy, max_depth=6, min_samples_leaf=41; total time=   0.0s\n",
      "[CV] END criterion=entropy, max_depth=6, min_samples_leaf=46; total time=   0.0s\n",
      "[CV] END criterion=entropy, max_depth=6, min_samples_leaf=46; total time=   0.0s\n",
      "[CV] END criterion=entropy, max_depth=6, min_samples_leaf=46; total time=   0.0s\n",
      "[CV] END criterion=entropy, max_depth=6, min_samples_leaf=46; total time=   0.0s\n",
      "[CV] END criterion=entropy, max_depth=6, min_samples_leaf=46; total time=   0.0s\n",
      "[CV] END criterion=entropy, max_depth=11, min_samples_leaf=1; total time=   0.0s\n",
      "[CV] END criterion=entropy, max_depth=11, min_samples_leaf=1; total time=   0.0s\n",
      "[CV] END criterion=entropy, max_depth=11, min_samples_leaf=1; total time=   0.0s\n",
      "[CV] END criterion=entropy, max_depth=11, min_samples_leaf=1; total time=   0.0s\n",
      "[CV] END criterion=entropy, max_depth=11, min_samples_leaf=1; total time=   0.0s\n",
      "[CV] END criterion=entropy, max_depth=11, min_samples_leaf=6; total time=   0.0s\n",
      "[CV] END criterion=entropy, max_depth=11, min_samples_leaf=6; total time=   0.0s\n"
     ]
    },
    {
     "name": "stdout",
     "output_type": "stream",
     "text": [
      "[CV] END criterion=entropy, max_depth=11, min_samples_leaf=6; total time=   0.0s\n",
      "[CV] END criterion=entropy, max_depth=11, min_samples_leaf=6; total time=   0.0s\n",
      "[CV] END criterion=entropy, max_depth=11, min_samples_leaf=6; total time=   0.0s\n",
      "[CV] END criterion=entropy, max_depth=11, min_samples_leaf=11; total time=   0.0s\n",
      "[CV] END criterion=entropy, max_depth=11, min_samples_leaf=11; total time=   0.0s\n",
      "[CV] END criterion=entropy, max_depth=11, min_samples_leaf=11; total time=   0.0s\n",
      "[CV] END criterion=entropy, max_depth=11, min_samples_leaf=11; total time=   0.0s\n",
      "[CV] END criterion=entropy, max_depth=11, min_samples_leaf=11; total time=   0.0s\n",
      "[CV] END criterion=entropy, max_depth=11, min_samples_leaf=16; total time=   0.0s\n",
      "[CV] END criterion=entropy, max_depth=11, min_samples_leaf=16; total time=   0.0s\n",
      "[CV] END criterion=entropy, max_depth=11, min_samples_leaf=16; total time=   0.0s\n",
      "[CV] END criterion=entropy, max_depth=11, min_samples_leaf=16; total time=   0.0s\n",
      "[CV] END criterion=entropy, max_depth=11, min_samples_leaf=16; total time=   0.0s\n",
      "[CV] END criterion=entropy, max_depth=11, min_samples_leaf=21; total time=   0.0s\n",
      "[CV] END criterion=entropy, max_depth=11, min_samples_leaf=21; total time=   0.0s\n",
      "[CV] END criterion=entropy, max_depth=11, min_samples_leaf=21; total time=   0.0s\n",
      "[CV] END criterion=entropy, max_depth=11, min_samples_leaf=21; total time=   0.0s\n",
      "[CV] END criterion=entropy, max_depth=11, min_samples_leaf=21; total time=   0.0s\n",
      "[CV] END criterion=entropy, max_depth=11, min_samples_leaf=26; total time=   0.0s\n",
      "[CV] END criterion=entropy, max_depth=11, min_samples_leaf=26; total time=   0.0s\n",
      "[CV] END criterion=entropy, max_depth=11, min_samples_leaf=26; total time=   0.0s\n",
      "[CV] END criterion=entropy, max_depth=11, min_samples_leaf=26; total time=   0.0s\n",
      "[CV] END criterion=entropy, max_depth=11, min_samples_leaf=26; total time=   0.0s\n",
      "[CV] END criterion=entropy, max_depth=11, min_samples_leaf=31; total time=   0.0s\n",
      "[CV] END criterion=entropy, max_depth=11, min_samples_leaf=31; total time=   0.0s\n",
      "[CV] END criterion=entropy, max_depth=11, min_samples_leaf=31; total time=   0.0s\n",
      "[CV] END criterion=entropy, max_depth=11, min_samples_leaf=31; total time=   0.0s\n",
      "[CV] END criterion=entropy, max_depth=11, min_samples_leaf=31; total time=   0.0s\n",
      "[CV] END criterion=entropy, max_depth=11, min_samples_leaf=36; total time=   0.0s\n",
      "[CV] END criterion=entropy, max_depth=11, min_samples_leaf=36; total time=   0.0s\n",
      "[CV] END criterion=entropy, max_depth=11, min_samples_leaf=36; total time=   0.0s\n",
      "[CV] END criterion=entropy, max_depth=11, min_samples_leaf=36; total time=   0.0s\n",
      "[CV] END criterion=entropy, max_depth=11, min_samples_leaf=36; total time=   0.0s\n",
      "[CV] END criterion=entropy, max_depth=11, min_samples_leaf=41; total time=   0.0s\n",
      "[CV] END criterion=entropy, max_depth=11, min_samples_leaf=41; total time=   0.0s\n",
      "[CV] END criterion=entropy, max_depth=11, min_samples_leaf=41; total time=   0.0s\n",
      "[CV] END criterion=entropy, max_depth=11, min_samples_leaf=41; total time=   0.0s\n",
      "[CV] END criterion=entropy, max_depth=11, min_samples_leaf=41; total time=   0.0s\n",
      "[CV] END criterion=entropy, max_depth=11, min_samples_leaf=46; total time=   0.0s\n",
      "[CV] END criterion=entropy, max_depth=11, min_samples_leaf=46; total time=   0.0s\n",
      "[CV] END criterion=entropy, max_depth=11, min_samples_leaf=46; total time=   0.0s\n",
      "[CV] END criterion=entropy, max_depth=11, min_samples_leaf=46; total time=   0.0s\n",
      "[CV] END criterion=entropy, max_depth=11, min_samples_leaf=46; total time=   0.0s\n",
      "[CV] END criterion=entropy, max_depth=16, min_samples_leaf=1; total time=   0.0s\n",
      "[CV] END criterion=entropy, max_depth=16, min_samples_leaf=1; total time=   0.0s\n",
      "[CV] END criterion=entropy, max_depth=16, min_samples_leaf=1; total time=   0.0s\n",
      "[CV] END criterion=entropy, max_depth=16, min_samples_leaf=1; total time=   0.0s\n",
      "[CV] END criterion=entropy, max_depth=16, min_samples_leaf=1; total time=   0.0s\n",
      "[CV] END criterion=entropy, max_depth=16, min_samples_leaf=6; total time=   0.0s\n",
      "[CV] END criterion=entropy, max_depth=16, min_samples_leaf=6; total time=   0.0s\n",
      "[CV] END criterion=entropy, max_depth=16, min_samples_leaf=6; total time=   0.0s\n",
      "[CV] END criterion=entropy, max_depth=16, min_samples_leaf=6; total time=   0.0s\n",
      "[CV] END criterion=entropy, max_depth=16, min_samples_leaf=6; total time=   0.0s\n",
      "[CV] END criterion=entropy, max_depth=16, min_samples_leaf=11; total time=   0.0s\n",
      "[CV] END criterion=entropy, max_depth=16, min_samples_leaf=11; total time=   0.0s\n",
      "[CV] END criterion=entropy, max_depth=16, min_samples_leaf=11; total time=   0.0s\n",
      "[CV] END criterion=entropy, max_depth=16, min_samples_leaf=11; total time=   0.0s\n",
      "[CV] END criterion=entropy, max_depth=16, min_samples_leaf=11; total time=   0.0s\n",
      "[CV] END criterion=entropy, max_depth=16, min_samples_leaf=16; total time=   0.0s\n",
      "[CV] END criterion=entropy, max_depth=16, min_samples_leaf=16; total time=   0.0s\n",
      "[CV] END criterion=entropy, max_depth=16, min_samples_leaf=16; total time=   0.0s\n",
      "[CV] END criterion=entropy, max_depth=16, min_samples_leaf=16; total time=   0.0s\n",
      "[CV] END criterion=entropy, max_depth=16, min_samples_leaf=16; total time=   0.0s\n",
      "[CV] END criterion=entropy, max_depth=16, min_samples_leaf=21; total time=   0.0s\n",
      "[CV] END criterion=entropy, max_depth=16, min_samples_leaf=21; total time=   0.0s\n",
      "[CV] END criterion=entropy, max_depth=16, min_samples_leaf=21; total time=   0.0s\n",
      "[CV] END criterion=entropy, max_depth=16, min_samples_leaf=21; total time=   0.0s\n",
      "[CV] END criterion=entropy, max_depth=16, min_samples_leaf=21; total time=   0.0s\n",
      "[CV] END criterion=entropy, max_depth=16, min_samples_leaf=26; total time=   0.0s\n",
      "[CV] END criterion=entropy, max_depth=16, min_samples_leaf=26; total time=   0.0s\n",
      "[CV] END criterion=entropy, max_depth=16, min_samples_leaf=26; total time=   0.0s\n",
      "[CV] END criterion=entropy, max_depth=16, min_samples_leaf=26; total time=   0.0s\n",
      "[CV] END criterion=entropy, max_depth=16, min_samples_leaf=26; total time=   0.0s\n",
      "[CV] END criterion=entropy, max_depth=16, min_samples_leaf=31; total time=   0.0s\n",
      "[CV] END criterion=entropy, max_depth=16, min_samples_leaf=31; total time=   0.0s\n",
      "[CV] END criterion=entropy, max_depth=16, min_samples_leaf=31; total time=   0.0s\n",
      "[CV] END criterion=entropy, max_depth=16, min_samples_leaf=31; total time=   0.0s\n",
      "[CV] END criterion=entropy, max_depth=16, min_samples_leaf=31; total time=   0.0s\n",
      "[CV] END criterion=entropy, max_depth=16, min_samples_leaf=36; total time=   0.0s\n",
      "[CV] END criterion=entropy, max_depth=16, min_samples_leaf=36; total time=   0.0s\n",
      "[CV] END criterion=entropy, max_depth=16, min_samples_leaf=36; total time=   0.0s\n",
      "[CV] END criterion=entropy, max_depth=16, min_samples_leaf=36; total time=   0.0s\n",
      "[CV] END criterion=entropy, max_depth=16, min_samples_leaf=36; total time=   0.0s\n",
      "[CV] END criterion=entropy, max_depth=16, min_samples_leaf=41; total time=   0.0s\n",
      "[CV] END criterion=entropy, max_depth=16, min_samples_leaf=41; total time=   0.0s\n",
      "[CV] END criterion=entropy, max_depth=16, min_samples_leaf=41; total time=   0.0s\n",
      "[CV] END criterion=entropy, max_depth=16, min_samples_leaf=41; total time=   0.0s\n",
      "[CV] END criterion=entropy, max_depth=16, min_samples_leaf=41; total time=   0.0s\n",
      "[CV] END criterion=entropy, max_depth=16, min_samples_leaf=46; total time=   0.0s\n",
      "[CV] END criterion=entropy, max_depth=16, min_samples_leaf=46; total time=   0.0s\n",
      "[CV] END criterion=entropy, max_depth=16, min_samples_leaf=46; total time=   0.0s\n",
      "[CV] END criterion=entropy, max_depth=16, min_samples_leaf=46; total time=   0.0s\n",
      "[CV] END criterion=entropy, max_depth=16, min_samples_leaf=46; total time=   0.0s\n",
      "[CV] END criterion=entropy, max_depth=21, min_samples_leaf=1; total time=   0.0s\n",
      "[CV] END criterion=entropy, max_depth=21, min_samples_leaf=1; total time=   0.0s\n",
      "[CV] END criterion=entropy, max_depth=21, min_samples_leaf=1; total time=   0.0s\n",
      "[CV] END criterion=entropy, max_depth=21, min_samples_leaf=1; total time=   0.0s\n",
      "[CV] END criterion=entropy, max_depth=21, min_samples_leaf=1; total time=   0.0s\n",
      "[CV] END criterion=entropy, max_depth=21, min_samples_leaf=6; total time=   0.0s\n",
      "[CV] END criterion=entropy, max_depth=21, min_samples_leaf=6; total time=   0.0s\n",
      "[CV] END criterion=entropy, max_depth=21, min_samples_leaf=6; total time=   0.0s\n",
      "[CV] END criterion=entropy, max_depth=21, min_samples_leaf=6; total time=   0.0s\n",
      "[CV] END criterion=entropy, max_depth=21, min_samples_leaf=6; total time=   0.0s\n",
      "[CV] END criterion=entropy, max_depth=21, min_samples_leaf=11; total time=   0.0s\n",
      "[CV] END criterion=entropy, max_depth=21, min_samples_leaf=11; total time=   0.0s\n",
      "[CV] END criterion=entropy, max_depth=21, min_samples_leaf=11; total time=   0.0s\n",
      "[CV] END criterion=entropy, max_depth=21, min_samples_leaf=11; total time=   0.0s\n",
      "[CV] END criterion=entropy, max_depth=21, min_samples_leaf=11; total time=   0.0s\n",
      "[CV] END criterion=entropy, max_depth=21, min_samples_leaf=16; total time=   0.0s\n",
      "[CV] END criterion=entropy, max_depth=21, min_samples_leaf=16; total time=   0.0s\n",
      "[CV] END criterion=entropy, max_depth=21, min_samples_leaf=16; total time=   0.0s\n",
      "[CV] END criterion=entropy, max_depth=21, min_samples_leaf=16; total time=   0.0s\n",
      "[CV] END criterion=entropy, max_depth=21, min_samples_leaf=16; total time=   0.0s\n",
      "[CV] END criterion=entropy, max_depth=21, min_samples_leaf=21; total time=   0.0s\n",
      "[CV] END criterion=entropy, max_depth=21, min_samples_leaf=21; total time=   0.0s\n",
      "[CV] END criterion=entropy, max_depth=21, min_samples_leaf=21; total time=   0.0s\n",
      "[CV] END criterion=entropy, max_depth=21, min_samples_leaf=21; total time=   0.0s\n",
      "[CV] END criterion=entropy, max_depth=21, min_samples_leaf=21; total time=   0.0s\n",
      "[CV] END criterion=entropy, max_depth=21, min_samples_leaf=26; total time=   0.0s\n"
     ]
    },
    {
     "name": "stdout",
     "output_type": "stream",
     "text": [
      "[CV] END criterion=entropy, max_depth=21, min_samples_leaf=26; total time=   0.0s\n",
      "[CV] END criterion=entropy, max_depth=21, min_samples_leaf=26; total time=   0.0s\n",
      "[CV] END criterion=entropy, max_depth=21, min_samples_leaf=26; total time=   0.0s\n",
      "[CV] END criterion=entropy, max_depth=21, min_samples_leaf=26; total time=   0.0s\n",
      "[CV] END criterion=entropy, max_depth=21, min_samples_leaf=31; total time=   0.0s\n",
      "[CV] END criterion=entropy, max_depth=21, min_samples_leaf=31; total time=   0.0s\n",
      "[CV] END criterion=entropy, max_depth=21, min_samples_leaf=31; total time=   0.0s\n",
      "[CV] END criterion=entropy, max_depth=21, min_samples_leaf=31; total time=   0.0s\n",
      "[CV] END criterion=entropy, max_depth=21, min_samples_leaf=31; total time=   0.0s\n",
      "[CV] END criterion=entropy, max_depth=21, min_samples_leaf=36; total time=   0.0s\n",
      "[CV] END criterion=entropy, max_depth=21, min_samples_leaf=36; total time=   0.0s\n",
      "[CV] END criterion=entropy, max_depth=21, min_samples_leaf=36; total time=   0.0s\n",
      "[CV] END criterion=entropy, max_depth=21, min_samples_leaf=36; total time=   0.0s\n",
      "[CV] END criterion=entropy, max_depth=21, min_samples_leaf=36; total time=   0.0s\n",
      "[CV] END criterion=entropy, max_depth=21, min_samples_leaf=41; total time=   0.0s\n",
      "[CV] END criterion=entropy, max_depth=21, min_samples_leaf=41; total time=   0.0s\n",
      "[CV] END criterion=entropy, max_depth=21, min_samples_leaf=41; total time=   0.0s\n",
      "[CV] END criterion=entropy, max_depth=21, min_samples_leaf=41; total time=   0.0s\n",
      "[CV] END criterion=entropy, max_depth=21, min_samples_leaf=41; total time=   0.0s\n",
      "[CV] END criterion=entropy, max_depth=21, min_samples_leaf=46; total time=   0.0s\n",
      "[CV] END criterion=entropy, max_depth=21, min_samples_leaf=46; total time=   0.0s\n",
      "[CV] END criterion=entropy, max_depth=21, min_samples_leaf=46; total time=   0.0s\n",
      "[CV] END criterion=entropy, max_depth=21, min_samples_leaf=46; total time=   0.0s\n",
      "[CV] END criterion=entropy, max_depth=21, min_samples_leaf=46; total time=   0.0s\n",
      "[CV] END criterion=entropy, max_depth=26, min_samples_leaf=1; total time=   0.0s\n",
      "[CV] END criterion=entropy, max_depth=26, min_samples_leaf=1; total time=   0.0s\n",
      "[CV] END criterion=entropy, max_depth=26, min_samples_leaf=1; total time=   0.0s\n",
      "[CV] END criterion=entropy, max_depth=26, min_samples_leaf=1; total time=   0.0s\n",
      "[CV] END criterion=entropy, max_depth=26, min_samples_leaf=1; total time=   0.0s\n",
      "[CV] END criterion=entropy, max_depth=26, min_samples_leaf=6; total time=   0.0s\n",
      "[CV] END criterion=entropy, max_depth=26, min_samples_leaf=6; total time=   0.0s\n",
      "[CV] END criterion=entropy, max_depth=26, min_samples_leaf=6; total time=   0.0s\n",
      "[CV] END criterion=entropy, max_depth=26, min_samples_leaf=6; total time=   0.0s\n",
      "[CV] END criterion=entropy, max_depth=26, min_samples_leaf=6; total time=   0.0s\n",
      "[CV] END criterion=entropy, max_depth=26, min_samples_leaf=11; total time=   0.0s\n",
      "[CV] END criterion=entropy, max_depth=26, min_samples_leaf=11; total time=   0.0s\n",
      "[CV] END criterion=entropy, max_depth=26, min_samples_leaf=11; total time=   0.0s\n",
      "[CV] END criterion=entropy, max_depth=26, min_samples_leaf=11; total time=   0.0s\n",
      "[CV] END criterion=entropy, max_depth=26, min_samples_leaf=11; total time=   0.0s\n",
      "[CV] END criterion=entropy, max_depth=26, min_samples_leaf=16; total time=   0.0s\n",
      "[CV] END criterion=entropy, max_depth=26, min_samples_leaf=16; total time=   0.0s\n",
      "[CV] END criterion=entropy, max_depth=26, min_samples_leaf=16; total time=   0.0s\n",
      "[CV] END criterion=entropy, max_depth=26, min_samples_leaf=16; total time=   0.0s\n",
      "[CV] END criterion=entropy, max_depth=26, min_samples_leaf=16; total time=   0.0s\n",
      "[CV] END criterion=entropy, max_depth=26, min_samples_leaf=21; total time=   0.0s\n",
      "[CV] END criterion=entropy, max_depth=26, min_samples_leaf=21; total time=   0.0s\n",
      "[CV] END criterion=entropy, max_depth=26, min_samples_leaf=21; total time=   0.0s\n",
      "[CV] END criterion=entropy, max_depth=26, min_samples_leaf=21; total time=   0.0s\n",
      "[CV] END criterion=entropy, max_depth=26, min_samples_leaf=21; total time=   0.0s\n",
      "[CV] END criterion=entropy, max_depth=26, min_samples_leaf=26; total time=   0.0s\n",
      "[CV] END criterion=entropy, max_depth=26, min_samples_leaf=26; total time=   0.0s\n",
      "[CV] END criterion=entropy, max_depth=26, min_samples_leaf=26; total time=   0.0s\n",
      "[CV] END criterion=entropy, max_depth=26, min_samples_leaf=26; total time=   0.0s\n",
      "[CV] END criterion=entropy, max_depth=26, min_samples_leaf=26; total time=   0.0s\n",
      "[CV] END criterion=entropy, max_depth=26, min_samples_leaf=31; total time=   0.0s\n",
      "[CV] END criterion=entropy, max_depth=26, min_samples_leaf=31; total time=   0.0s\n",
      "[CV] END criterion=entropy, max_depth=26, min_samples_leaf=31; total time=   0.0s\n",
      "[CV] END criterion=entropy, max_depth=26, min_samples_leaf=31; total time=   0.0s\n",
      "[CV] END criterion=entropy, max_depth=26, min_samples_leaf=31; total time=   0.0s\n",
      "[CV] END criterion=entropy, max_depth=26, min_samples_leaf=36; total time=   0.0s\n",
      "[CV] END criterion=entropy, max_depth=26, min_samples_leaf=36; total time=   0.0s\n",
      "[CV] END criterion=entropy, max_depth=26, min_samples_leaf=36; total time=   0.0s\n",
      "[CV] END criterion=entropy, max_depth=26, min_samples_leaf=36; total time=   0.0s\n",
      "[CV] END criterion=entropy, max_depth=26, min_samples_leaf=36; total time=   0.0s\n",
      "[CV] END criterion=entropy, max_depth=26, min_samples_leaf=41; total time=   0.0s\n",
      "[CV] END criterion=entropy, max_depth=26, min_samples_leaf=41; total time=   0.0s\n",
      "[CV] END criterion=entropy, max_depth=26, min_samples_leaf=41; total time=   0.0s\n",
      "[CV] END criterion=entropy, max_depth=26, min_samples_leaf=41; total time=   0.0s\n",
      "[CV] END criterion=entropy, max_depth=26, min_samples_leaf=41; total time=   0.0s\n",
      "[CV] END criterion=entropy, max_depth=26, min_samples_leaf=46; total time=   0.0s\n",
      "[CV] END criterion=entropy, max_depth=26, min_samples_leaf=46; total time=   0.0s\n",
      "[CV] END criterion=entropy, max_depth=26, min_samples_leaf=46; total time=   0.0s\n",
      "[CV] END criterion=entropy, max_depth=26, min_samples_leaf=46; total time=   0.0s\n",
      "[CV] END criterion=entropy, max_depth=26, min_samples_leaf=46; total time=   0.0s\n",
      "[CV] END criterion=entropy, max_depth=31, min_samples_leaf=1; total time=   0.0s\n",
      "[CV] END criterion=entropy, max_depth=31, min_samples_leaf=1; total time=   0.0s\n",
      "[CV] END criterion=entropy, max_depth=31, min_samples_leaf=1; total time=   0.0s\n",
      "[CV] END criterion=entropy, max_depth=31, min_samples_leaf=1; total time=   0.0s\n",
      "[CV] END criterion=entropy, max_depth=31, min_samples_leaf=1; total time=   0.0s\n",
      "[CV] END criterion=entropy, max_depth=31, min_samples_leaf=6; total time=   0.0s\n",
      "[CV] END criterion=entropy, max_depth=31, min_samples_leaf=6; total time=   0.0s\n",
      "[CV] END criterion=entropy, max_depth=31, min_samples_leaf=6; total time=   0.0s\n",
      "[CV] END criterion=entropy, max_depth=31, min_samples_leaf=6; total time=   0.0s\n",
      "[CV] END criterion=entropy, max_depth=31, min_samples_leaf=6; total time=   0.0s\n",
      "[CV] END criterion=entropy, max_depth=31, min_samples_leaf=11; total time=   0.0s\n",
      "[CV] END criterion=entropy, max_depth=31, min_samples_leaf=11; total time=   0.0s\n",
      "[CV] END criterion=entropy, max_depth=31, min_samples_leaf=11; total time=   0.0s\n",
      "[CV] END criterion=entropy, max_depth=31, min_samples_leaf=11; total time=   0.0s\n",
      "[CV] END criterion=entropy, max_depth=31, min_samples_leaf=11; total time=   0.0s\n",
      "[CV] END criterion=entropy, max_depth=31, min_samples_leaf=16; total time=   0.0s\n",
      "[CV] END criterion=entropy, max_depth=31, min_samples_leaf=16; total time=   0.0s\n",
      "[CV] END criterion=entropy, max_depth=31, min_samples_leaf=16; total time=   0.0s\n",
      "[CV] END criterion=entropy, max_depth=31, min_samples_leaf=16; total time=   0.0s\n",
      "[CV] END criterion=entropy, max_depth=31, min_samples_leaf=16; total time=   0.0s\n",
      "[CV] END criterion=entropy, max_depth=31, min_samples_leaf=21; total time=   0.0s\n",
      "[CV] END criterion=entropy, max_depth=31, min_samples_leaf=21; total time=   0.0s\n",
      "[CV] END criterion=entropy, max_depth=31, min_samples_leaf=21; total time=   0.0s\n",
      "[CV] END criterion=entropy, max_depth=31, min_samples_leaf=21; total time=   0.0s\n",
      "[CV] END criterion=entropy, max_depth=31, min_samples_leaf=21; total time=   0.0s\n",
      "[CV] END criterion=entropy, max_depth=31, min_samples_leaf=26; total time=   0.0s\n",
      "[CV] END criterion=entropy, max_depth=31, min_samples_leaf=26; total time=   0.0s\n",
      "[CV] END criterion=entropy, max_depth=31, min_samples_leaf=26; total time=   0.0s\n",
      "[CV] END criterion=entropy, max_depth=31, min_samples_leaf=26; total time=   0.0s\n"
     ]
    },
    {
     "name": "stdout",
     "output_type": "stream",
     "text": [
      "[CV] END criterion=entropy, max_depth=31, min_samples_leaf=26; total time=   0.0s\n",
      "[CV] END criterion=entropy, max_depth=31, min_samples_leaf=31; total time=   0.0s\n",
      "[CV] END criterion=entropy, max_depth=31, min_samples_leaf=31; total time=   0.0s\n",
      "[CV] END criterion=entropy, max_depth=31, min_samples_leaf=31; total time=   0.0s\n",
      "[CV] END criterion=entropy, max_depth=31, min_samples_leaf=31; total time=   0.0s\n",
      "[CV] END criterion=entropy, max_depth=31, min_samples_leaf=31; total time=   0.0s\n",
      "[CV] END criterion=entropy, max_depth=31, min_samples_leaf=36; total time=   0.0s\n",
      "[CV] END criterion=entropy, max_depth=31, min_samples_leaf=36; total time=   0.0s\n",
      "[CV] END criterion=entropy, max_depth=31, min_samples_leaf=36; total time=   0.0s\n",
      "[CV] END criterion=entropy, max_depth=31, min_samples_leaf=36; total time=   0.0s\n",
      "[CV] END criterion=entropy, max_depth=31, min_samples_leaf=36; total time=   0.0s\n",
      "[CV] END criterion=entropy, max_depth=31, min_samples_leaf=41; total time=   0.0s\n",
      "[CV] END criterion=entropy, max_depth=31, min_samples_leaf=41; total time=   0.0s\n",
      "[CV] END criterion=entropy, max_depth=31, min_samples_leaf=41; total time=   0.0s\n",
      "[CV] END criterion=entropy, max_depth=31, min_samples_leaf=41; total time=   0.0s\n",
      "[CV] END criterion=entropy, max_depth=31, min_samples_leaf=41; total time=   0.0s\n",
      "[CV] END criterion=entropy, max_depth=31, min_samples_leaf=46; total time=   0.0s\n",
      "[CV] END criterion=entropy, max_depth=31, min_samples_leaf=46; total time=   0.0s\n",
      "[CV] END criterion=entropy, max_depth=31, min_samples_leaf=46; total time=   0.0s\n",
      "[CV] END criterion=entropy, max_depth=31, min_samples_leaf=46; total time=   0.0s\n",
      "[CV] END criterion=entropy, max_depth=31, min_samples_leaf=46; total time=   0.0s\n",
      "[CV] END criterion=entropy, max_depth=36, min_samples_leaf=1; total time=   0.0s\n",
      "[CV] END criterion=entropy, max_depth=36, min_samples_leaf=1; total time=   0.0s\n",
      "[CV] END criterion=entropy, max_depth=36, min_samples_leaf=1; total time=   0.0s\n",
      "[CV] END criterion=entropy, max_depth=36, min_samples_leaf=1; total time=   0.0s\n",
      "[CV] END criterion=entropy, max_depth=36, min_samples_leaf=1; total time=   0.0s\n",
      "[CV] END criterion=entropy, max_depth=36, min_samples_leaf=6; total time=   0.0s\n",
      "[CV] END criterion=entropy, max_depth=36, min_samples_leaf=6; total time=   0.0s\n",
      "[CV] END criterion=entropy, max_depth=36, min_samples_leaf=6; total time=   0.0s\n",
      "[CV] END criterion=entropy, max_depth=36, min_samples_leaf=6; total time=   0.0s\n",
      "[CV] END criterion=entropy, max_depth=36, min_samples_leaf=6; total time=   0.0s\n",
      "[CV] END criterion=entropy, max_depth=36, min_samples_leaf=11; total time=   0.0s\n",
      "[CV] END criterion=entropy, max_depth=36, min_samples_leaf=11; total time=   0.0s\n",
      "[CV] END criterion=entropy, max_depth=36, min_samples_leaf=11; total time=   0.0s\n",
      "[CV] END criterion=entropy, max_depth=36, min_samples_leaf=11; total time=   0.0s\n",
      "[CV] END criterion=entropy, max_depth=36, min_samples_leaf=11; total time=   0.0s\n",
      "[CV] END criterion=entropy, max_depth=36, min_samples_leaf=16; total time=   0.0s\n",
      "[CV] END criterion=entropy, max_depth=36, min_samples_leaf=16; total time=   0.0s\n",
      "[CV] END criterion=entropy, max_depth=36, min_samples_leaf=16; total time=   0.0s\n",
      "[CV] END criterion=entropy, max_depth=36, min_samples_leaf=16; total time=   0.0s\n",
      "[CV] END criterion=entropy, max_depth=36, min_samples_leaf=16; total time=   0.0s\n",
      "[CV] END criterion=entropy, max_depth=36, min_samples_leaf=21; total time=   0.0s\n",
      "[CV] END criterion=entropy, max_depth=36, min_samples_leaf=21; total time=   0.0s\n",
      "[CV] END criterion=entropy, max_depth=36, min_samples_leaf=21; total time=   0.0s\n",
      "[CV] END criterion=entropy, max_depth=36, min_samples_leaf=21; total time=   0.0s\n",
      "[CV] END criterion=entropy, max_depth=36, min_samples_leaf=21; total time=   0.0s\n",
      "[CV] END criterion=entropy, max_depth=36, min_samples_leaf=26; total time=   0.0s\n",
      "[CV] END criterion=entropy, max_depth=36, min_samples_leaf=26; total time=   0.0s\n",
      "[CV] END criterion=entropy, max_depth=36, min_samples_leaf=26; total time=   0.0s\n",
      "[CV] END criterion=entropy, max_depth=36, min_samples_leaf=26; total time=   0.0s\n",
      "[CV] END criterion=entropy, max_depth=36, min_samples_leaf=26; total time=   0.0s\n",
      "[CV] END criterion=entropy, max_depth=36, min_samples_leaf=31; total time=   0.0s\n",
      "[CV] END criterion=entropy, max_depth=36, min_samples_leaf=31; total time=   0.0s\n",
      "[CV] END criterion=entropy, max_depth=36, min_samples_leaf=31; total time=   0.0s\n",
      "[CV] END criterion=entropy, max_depth=36, min_samples_leaf=31; total time=   0.0s\n",
      "[CV] END criterion=entropy, max_depth=36, min_samples_leaf=31; total time=   0.0s\n",
      "[CV] END criterion=entropy, max_depth=36, min_samples_leaf=36; total time=   0.0s\n",
      "[CV] END criterion=entropy, max_depth=36, min_samples_leaf=36; total time=   0.0s\n",
      "[CV] END criterion=entropy, max_depth=36, min_samples_leaf=36; total time=   0.0s\n",
      "[CV] END criterion=entropy, max_depth=36, min_samples_leaf=36; total time=   0.0s\n",
      "[CV] END criterion=entropy, max_depth=36, min_samples_leaf=36; total time=   0.0s\n",
      "[CV] END criterion=entropy, max_depth=36, min_samples_leaf=41; total time=   0.0s\n",
      "[CV] END criterion=entropy, max_depth=36, min_samples_leaf=41; total time=   0.0s\n",
      "[CV] END criterion=entropy, max_depth=36, min_samples_leaf=41; total time=   0.0s\n",
      "[CV] END criterion=entropy, max_depth=36, min_samples_leaf=41; total time=   0.0s\n",
      "[CV] END criterion=entropy, max_depth=36, min_samples_leaf=41; total time=   0.0s\n",
      "[CV] END criterion=entropy, max_depth=36, min_samples_leaf=46; total time=   0.0s\n",
      "[CV] END criterion=entropy, max_depth=36, min_samples_leaf=46; total time=   0.0s\n",
      "[CV] END criterion=entropy, max_depth=36, min_samples_leaf=46; total time=   0.0s\n",
      "[CV] END criterion=entropy, max_depth=36, min_samples_leaf=46; total time=   0.0s\n",
      "[CV] END criterion=entropy, max_depth=36, min_samples_leaf=46; total time=   0.0s\n",
      "[CV] END criterion=entropy, max_depth=41, min_samples_leaf=1; total time=   0.0s\n",
      "[CV] END criterion=entropy, max_depth=41, min_samples_leaf=1; total time=   0.0s\n",
      "[CV] END criterion=entropy, max_depth=41, min_samples_leaf=1; total time=   0.0s\n",
      "[CV] END criterion=entropy, max_depth=41, min_samples_leaf=1; total time=   0.0s\n",
      "[CV] END criterion=entropy, max_depth=41, min_samples_leaf=1; total time=   0.0s\n",
      "[CV] END criterion=entropy, max_depth=41, min_samples_leaf=6; total time=   0.0s\n",
      "[CV] END criterion=entropy, max_depth=41, min_samples_leaf=6; total time=   0.0s\n",
      "[CV] END criterion=entropy, max_depth=41, min_samples_leaf=6; total time=   0.0s\n",
      "[CV] END criterion=entropy, max_depth=41, min_samples_leaf=6; total time=   0.0s\n",
      "[CV] END criterion=entropy, max_depth=41, min_samples_leaf=6; total time=   0.0s\n",
      "[CV] END criterion=entropy, max_depth=41, min_samples_leaf=11; total time=   0.0s\n",
      "[CV] END criterion=entropy, max_depth=41, min_samples_leaf=11; total time=   0.0s\n",
      "[CV] END criterion=entropy, max_depth=41, min_samples_leaf=11; total time=   0.0s\n",
      "[CV] END criterion=entropy, max_depth=41, min_samples_leaf=11; total time=   0.0s\n",
      "[CV] END criterion=entropy, max_depth=41, min_samples_leaf=11; total time=   0.0s\n",
      "[CV] END criterion=entropy, max_depth=41, min_samples_leaf=16; total time=   0.0s\n",
      "[CV] END criterion=entropy, max_depth=41, min_samples_leaf=16; total time=   0.0s\n",
      "[CV] END criterion=entropy, max_depth=41, min_samples_leaf=16; total time=   0.0s\n",
      "[CV] END criterion=entropy, max_depth=41, min_samples_leaf=16; total time=   0.0s\n",
      "[CV] END criterion=entropy, max_depth=41, min_samples_leaf=16; total time=   0.0s\n",
      "[CV] END criterion=entropy, max_depth=41, min_samples_leaf=21; total time=   0.0s\n",
      "[CV] END criterion=entropy, max_depth=41, min_samples_leaf=21; total time=   0.0s\n",
      "[CV] END criterion=entropy, max_depth=41, min_samples_leaf=21; total time=   0.0s\n",
      "[CV] END criterion=entropy, max_depth=41, min_samples_leaf=21; total time=   0.0s\n",
      "[CV] END criterion=entropy, max_depth=41, min_samples_leaf=21; total time=   0.0s\n",
      "[CV] END criterion=entropy, max_depth=41, min_samples_leaf=26; total time=   0.0s\n",
      "[CV] END criterion=entropy, max_depth=41, min_samples_leaf=26; total time=   0.0s\n",
      "[CV] END criterion=entropy, max_depth=41, min_samples_leaf=26; total time=   0.0s\n",
      "[CV] END criterion=entropy, max_depth=41, min_samples_leaf=26; total time=   0.0s\n",
      "[CV] END criterion=entropy, max_depth=41, min_samples_leaf=26; total time=   0.0s\n",
      "[CV] END criterion=entropy, max_depth=41, min_samples_leaf=31; total time=   0.0s\n",
      "[CV] END criterion=entropy, max_depth=41, min_samples_leaf=31; total time=   0.0s\n",
      "[CV] END criterion=entropy, max_depth=41, min_samples_leaf=31; total time=   0.0s\n",
      "[CV] END criterion=entropy, max_depth=41, min_samples_leaf=31; total time=   0.0s\n",
      "[CV] END criterion=entropy, max_depth=41, min_samples_leaf=31; total time=   0.0s\n",
      "[CV] END criterion=entropy, max_depth=41, min_samples_leaf=36; total time=   0.0s\n",
      "[CV] END criterion=entropy, max_depth=41, min_samples_leaf=36; total time=   0.0s\n",
      "[CV] END criterion=entropy, max_depth=41, min_samples_leaf=36; total time=   0.0s\n",
      "[CV] END criterion=entropy, max_depth=41, min_samples_leaf=36; total time=   0.0s\n",
      "[CV] END criterion=entropy, max_depth=41, min_samples_leaf=36; total time=   0.0s\n",
      "[CV] END criterion=entropy, max_depth=41, min_samples_leaf=41; total time=   0.0s\n",
      "[CV] END criterion=entropy, max_depth=41, min_samples_leaf=41; total time=   0.0s\n",
      "[CV] END criterion=entropy, max_depth=41, min_samples_leaf=41; total time=   0.0s\n",
      "[CV] END criterion=entropy, max_depth=41, min_samples_leaf=41; total time=   0.0s\n"
     ]
    },
    {
     "name": "stdout",
     "output_type": "stream",
     "text": [
      "[CV] END criterion=entropy, max_depth=41, min_samples_leaf=41; total time=   0.0s\n",
      "[CV] END criterion=entropy, max_depth=41, min_samples_leaf=46; total time=   0.0s\n",
      "[CV] END criterion=entropy, max_depth=41, min_samples_leaf=46; total time=   0.0s\n",
      "[CV] END criterion=entropy, max_depth=41, min_samples_leaf=46; total time=   0.0s\n",
      "[CV] END criterion=entropy, max_depth=41, min_samples_leaf=46; total time=   0.0s\n",
      "[CV] END criterion=entropy, max_depth=41, min_samples_leaf=46; total time=   0.0s\n",
      "[CV] END criterion=entropy, max_depth=46, min_samples_leaf=1; total time=   0.0s\n",
      "[CV] END criterion=entropy, max_depth=46, min_samples_leaf=1; total time=   0.0s\n",
      "[CV] END criterion=entropy, max_depth=46, min_samples_leaf=1; total time=   0.0s\n",
      "[CV] END criterion=entropy, max_depth=46, min_samples_leaf=1; total time=   0.0s\n",
      "[CV] END criterion=entropy, max_depth=46, min_samples_leaf=1; total time=   0.0s\n",
      "[CV] END criterion=entropy, max_depth=46, min_samples_leaf=6; total time=   0.0s\n",
      "[CV] END criterion=entropy, max_depth=46, min_samples_leaf=6; total time=   0.0s\n",
      "[CV] END criterion=entropy, max_depth=46, min_samples_leaf=6; total time=   0.0s\n",
      "[CV] END criterion=entropy, max_depth=46, min_samples_leaf=6; total time=   0.0s\n",
      "[CV] END criterion=entropy, max_depth=46, min_samples_leaf=6; total time=   0.0s\n",
      "[CV] END criterion=entropy, max_depth=46, min_samples_leaf=11; total time=   0.0s\n",
      "[CV] END criterion=entropy, max_depth=46, min_samples_leaf=11; total time=   0.0s\n",
      "[CV] END criterion=entropy, max_depth=46, min_samples_leaf=11; total time=   0.0s\n",
      "[CV] END criterion=entropy, max_depth=46, min_samples_leaf=11; total time=   0.0s\n",
      "[CV] END criterion=entropy, max_depth=46, min_samples_leaf=11; total time=   0.0s\n",
      "[CV] END criterion=entropy, max_depth=46, min_samples_leaf=16; total time=   0.0s\n",
      "[CV] END criterion=entropy, max_depth=46, min_samples_leaf=16; total time=   0.0s\n",
      "[CV] END criterion=entropy, max_depth=46, min_samples_leaf=16; total time=   0.0s\n",
      "[CV] END criterion=entropy, max_depth=46, min_samples_leaf=16; total time=   0.0s\n",
      "[CV] END criterion=entropy, max_depth=46, min_samples_leaf=16; total time=   0.0s\n",
      "[CV] END criterion=entropy, max_depth=46, min_samples_leaf=21; total time=   0.0s\n",
      "[CV] END criterion=entropy, max_depth=46, min_samples_leaf=21; total time=   0.0s\n",
      "[CV] END criterion=entropy, max_depth=46, min_samples_leaf=21; total time=   0.0s\n",
      "[CV] END criterion=entropy, max_depth=46, min_samples_leaf=21; total time=   0.0s\n",
      "[CV] END criterion=entropy, max_depth=46, min_samples_leaf=21; total time=   0.0s\n",
      "[CV] END criterion=entropy, max_depth=46, min_samples_leaf=26; total time=   0.0s\n",
      "[CV] END criterion=entropy, max_depth=46, min_samples_leaf=26; total time=   0.0s\n",
      "[CV] END criterion=entropy, max_depth=46, min_samples_leaf=26; total time=   0.0s\n",
      "[CV] END criterion=entropy, max_depth=46, min_samples_leaf=26; total time=   0.0s\n",
      "[CV] END criterion=entropy, max_depth=46, min_samples_leaf=26; total time=   0.0s\n",
      "[CV] END criterion=entropy, max_depth=46, min_samples_leaf=31; total time=   0.0s\n",
      "[CV] END criterion=entropy, max_depth=46, min_samples_leaf=31; total time=   0.0s\n",
      "[CV] END criterion=entropy, max_depth=46, min_samples_leaf=31; total time=   0.0s\n",
      "[CV] END criterion=entropy, max_depth=46, min_samples_leaf=31; total time=   0.0s\n",
      "[CV] END criterion=entropy, max_depth=46, min_samples_leaf=31; total time=   0.0s\n",
      "[CV] END criterion=entropy, max_depth=46, min_samples_leaf=36; total time=   0.0s\n",
      "[CV] END criterion=entropy, max_depth=46, min_samples_leaf=36; total time=   0.0s\n",
      "[CV] END criterion=entropy, max_depth=46, min_samples_leaf=36; total time=   0.0s\n",
      "[CV] END criterion=entropy, max_depth=46, min_samples_leaf=36; total time=   0.0s\n",
      "[CV] END criterion=entropy, max_depth=46, min_samples_leaf=36; total time=   0.0s\n",
      "[CV] END criterion=entropy, max_depth=46, min_samples_leaf=41; total time=   0.0s\n",
      "[CV] END criterion=entropy, max_depth=46, min_samples_leaf=41; total time=   0.0s\n",
      "[CV] END criterion=entropy, max_depth=46, min_samples_leaf=41; total time=   0.0s\n",
      "[CV] END criterion=entropy, max_depth=46, min_samples_leaf=41; total time=   0.0s\n",
      "[CV] END criterion=entropy, max_depth=46, min_samples_leaf=41; total time=   0.0s\n",
      "[CV] END criterion=entropy, max_depth=46, min_samples_leaf=46; total time=   0.0s\n",
      "[CV] END criterion=entropy, max_depth=46, min_samples_leaf=46; total time=   0.0s\n",
      "[CV] END criterion=entropy, max_depth=46, min_samples_leaf=46; total time=   0.0s\n",
      "[CV] END criterion=entropy, max_depth=46, min_samples_leaf=46; total time=   0.0s\n",
      "[CV] END criterion=entropy, max_depth=46, min_samples_leaf=46; total time=   0.0s\n"
     ]
    },
    {
     "data": {
      "text/html": [
       "<style>#sk-container-id-1 {color: black;background-color: white;}#sk-container-id-1 pre{padding: 0;}#sk-container-id-1 div.sk-toggleable {background-color: white;}#sk-container-id-1 label.sk-toggleable__label {cursor: pointer;display: block;width: 100%;margin-bottom: 0;padding: 0.3em;box-sizing: border-box;text-align: center;}#sk-container-id-1 label.sk-toggleable__label-arrow:before {content: \"▸\";float: left;margin-right: 0.25em;color: #696969;}#sk-container-id-1 label.sk-toggleable__label-arrow:hover:before {color: black;}#sk-container-id-1 div.sk-estimator:hover label.sk-toggleable__label-arrow:before {color: black;}#sk-container-id-1 div.sk-toggleable__content {max-height: 0;max-width: 0;overflow: hidden;text-align: left;background-color: #f0f8ff;}#sk-container-id-1 div.sk-toggleable__content pre {margin: 0.2em;color: black;border-radius: 0.25em;background-color: #f0f8ff;}#sk-container-id-1 input.sk-toggleable__control:checked~div.sk-toggleable__content {max-height: 200px;max-width: 100%;overflow: auto;}#sk-container-id-1 input.sk-toggleable__control:checked~label.sk-toggleable__label-arrow:before {content: \"▾\";}#sk-container-id-1 div.sk-estimator input.sk-toggleable__control:checked~label.sk-toggleable__label {background-color: #d4ebff;}#sk-container-id-1 div.sk-label input.sk-toggleable__control:checked~label.sk-toggleable__label {background-color: #d4ebff;}#sk-container-id-1 input.sk-hidden--visually {border: 0;clip: rect(1px 1px 1px 1px);clip: rect(1px, 1px, 1px, 1px);height: 1px;margin: -1px;overflow: hidden;padding: 0;position: absolute;width: 1px;}#sk-container-id-1 div.sk-estimator {font-family: monospace;background-color: #f0f8ff;border: 1px dotted black;border-radius: 0.25em;box-sizing: border-box;margin-bottom: 0.5em;}#sk-container-id-1 div.sk-estimator:hover {background-color: #d4ebff;}#sk-container-id-1 div.sk-parallel-item::after {content: \"\";width: 100%;border-bottom: 1px solid gray;flex-grow: 1;}#sk-container-id-1 div.sk-label:hover label.sk-toggleable__label {background-color: #d4ebff;}#sk-container-id-1 div.sk-serial::before {content: \"\";position: absolute;border-left: 1px solid gray;box-sizing: border-box;top: 0;bottom: 0;left: 50%;z-index: 0;}#sk-container-id-1 div.sk-serial {display: flex;flex-direction: column;align-items: center;background-color: white;padding-right: 0.2em;padding-left: 0.2em;position: relative;}#sk-container-id-1 div.sk-item {position: relative;z-index: 1;}#sk-container-id-1 div.sk-parallel {display: flex;align-items: stretch;justify-content: center;background-color: white;position: relative;}#sk-container-id-1 div.sk-item::before, #sk-container-id-1 div.sk-parallel-item::before {content: \"\";position: absolute;border-left: 1px solid gray;box-sizing: border-box;top: 0;bottom: 0;left: 50%;z-index: -1;}#sk-container-id-1 div.sk-parallel-item {display: flex;flex-direction: column;z-index: 1;position: relative;background-color: white;}#sk-container-id-1 div.sk-parallel-item:first-child::after {align-self: flex-end;width: 50%;}#sk-container-id-1 div.sk-parallel-item:last-child::after {align-self: flex-start;width: 50%;}#sk-container-id-1 div.sk-parallel-item:only-child::after {width: 0;}#sk-container-id-1 div.sk-dashed-wrapped {border: 1px dashed gray;margin: 0 0.4em 0.5em 0.4em;box-sizing: border-box;padding-bottom: 0.4em;background-color: white;}#sk-container-id-1 div.sk-label label {font-family: monospace;font-weight: bold;display: inline-block;line-height: 1.2em;}#sk-container-id-1 div.sk-label-container {text-align: center;}#sk-container-id-1 div.sk-container {/* jupyter's `normalize.less` sets `[hidden] { display: none; }` but bootstrap.min.css set `[hidden] { display: none !important; }` so we also need the `!important` here to be able to override the default hidden behavior on the sphinx rendered scikit-learn.org. See: https://github.com/scikit-learn/scikit-learn/issues/21755 */display: inline-block !important;position: relative;}#sk-container-id-1 div.sk-text-repr-fallback {display: none;}</style><div id=\"sk-container-id-1\" class=\"sk-top-container\"><div class=\"sk-text-repr-fallback\"><pre>GridSearchCV(estimator=DecisionTreeClassifier(),\n",
       "             param_grid={&#x27;criterion&#x27;: [&#x27;ginni&#x27;, &#x27;entropy&#x27;],\n",
       "                         &#x27;max_depth&#x27;: [1, 6, 11, 16, 21, 26, 31, 36, 41, 46],\n",
       "                         &#x27;min_samples_leaf&#x27;: [1, 6, 11, 16, 21, 26, 31, 36, 41,\n",
       "                                              46]},\n",
       "             verbose=2)</pre><b>In a Jupyter environment, please rerun this cell to show the HTML representation or trust the notebook. <br />On GitHub, the HTML representation is unable to render, please try loading this page with nbviewer.org.</b></div><div class=\"sk-container\" hidden><div class=\"sk-item sk-dashed-wrapped\"><div class=\"sk-label-container\"><div class=\"sk-label sk-toggleable\"><input class=\"sk-toggleable__control sk-hidden--visually\" id=\"sk-estimator-id-1\" type=\"checkbox\" ><label for=\"sk-estimator-id-1\" class=\"sk-toggleable__label sk-toggleable__label-arrow\">GridSearchCV</label><div class=\"sk-toggleable__content\"><pre>GridSearchCV(estimator=DecisionTreeClassifier(),\n",
       "             param_grid={&#x27;criterion&#x27;: [&#x27;ginni&#x27;, &#x27;entropy&#x27;],\n",
       "                         &#x27;max_depth&#x27;: [1, 6, 11, 16, 21, 26, 31, 36, 41, 46],\n",
       "                         &#x27;min_samples_leaf&#x27;: [1, 6, 11, 16, 21, 26, 31, 36, 41,\n",
       "                                              46]},\n",
       "             verbose=2)</pre></div></div></div><div class=\"sk-parallel\"><div class=\"sk-parallel-item\"><div class=\"sk-item\"><div class=\"sk-label-container\"><div class=\"sk-label sk-toggleable\"><input class=\"sk-toggleable__control sk-hidden--visually\" id=\"sk-estimator-id-2\" type=\"checkbox\" ><label for=\"sk-estimator-id-2\" class=\"sk-toggleable__label sk-toggleable__label-arrow\">estimator: DecisionTreeClassifier</label><div class=\"sk-toggleable__content\"><pre>DecisionTreeClassifier()</pre></div></div></div><div class=\"sk-serial\"><div class=\"sk-item\"><div class=\"sk-estimator sk-toggleable\"><input class=\"sk-toggleable__control sk-hidden--visually\" id=\"sk-estimator-id-3\" type=\"checkbox\" ><label for=\"sk-estimator-id-3\" class=\"sk-toggleable__label sk-toggleable__label-arrow\">DecisionTreeClassifier</label><div class=\"sk-toggleable__content\"><pre>DecisionTreeClassifier()</pre></div></div></div></div></div></div></div></div></div></div>"
      ],
      "text/plain": [
       "GridSearchCV(estimator=DecisionTreeClassifier(),\n",
       "             param_grid={'criterion': ['ginni', 'entropy'],\n",
       "                         'max_depth': [1, 6, 11, 16, 21, 26, 31, 36, 41, 46],\n",
       "                         'min_samples_leaf': [1, 6, 11, 16, 21, 26, 31, 36, 41,\n",
       "                                              46]},\n",
       "             verbose=2)"
      ]
     },
     "execution_count": 43,
     "metadata": {},
     "output_type": "execute_result"
    }
   ],
   "source": [
    "grid = GridSearchCV(DecisionTreeClassifier(), parameters, verbose=2)\n",
    "grid.fit(xtrain, ytrain)"
   ]
  },
  {
   "cell_type": "code",
   "execution_count": 44,
   "id": "61caf54e",
   "metadata": {},
   "outputs": [
    {
     "data": {
      "text/plain": [
       "0.876687905468026"
      ]
     },
     "execution_count": 44,
     "metadata": {},
     "output_type": "execute_result"
    }
   ],
   "source": [
    "grid.best_score_"
   ]
  },
  {
   "cell_type": "code",
   "execution_count": 45,
   "id": "56a20ab4",
   "metadata": {},
   "outputs": [
    {
     "data": {
      "text/plain": [
       "{'criterion': 'entropy', 'max_depth': 11, 'min_samples_leaf': 11}"
      ]
     },
     "execution_count": 45,
     "metadata": {},
     "output_type": "execute_result"
    }
   ],
   "source": [
    "grid.best_params_"
   ]
  },
  {
   "cell_type": "code",
   "execution_count": 46,
   "id": "78b93910",
   "metadata": {},
   "outputs": [
    {
     "data": {
      "text/html": [
       "<style>#sk-container-id-2 {color: black;background-color: white;}#sk-container-id-2 pre{padding: 0;}#sk-container-id-2 div.sk-toggleable {background-color: white;}#sk-container-id-2 label.sk-toggleable__label {cursor: pointer;display: block;width: 100%;margin-bottom: 0;padding: 0.3em;box-sizing: border-box;text-align: center;}#sk-container-id-2 label.sk-toggleable__label-arrow:before {content: \"▸\";float: left;margin-right: 0.25em;color: #696969;}#sk-container-id-2 label.sk-toggleable__label-arrow:hover:before {color: black;}#sk-container-id-2 div.sk-estimator:hover label.sk-toggleable__label-arrow:before {color: black;}#sk-container-id-2 div.sk-toggleable__content {max-height: 0;max-width: 0;overflow: hidden;text-align: left;background-color: #f0f8ff;}#sk-container-id-2 div.sk-toggleable__content pre {margin: 0.2em;color: black;border-radius: 0.25em;background-color: #f0f8ff;}#sk-container-id-2 input.sk-toggleable__control:checked~div.sk-toggleable__content {max-height: 200px;max-width: 100%;overflow: auto;}#sk-container-id-2 input.sk-toggleable__control:checked~label.sk-toggleable__label-arrow:before {content: \"▾\";}#sk-container-id-2 div.sk-estimator input.sk-toggleable__control:checked~label.sk-toggleable__label {background-color: #d4ebff;}#sk-container-id-2 div.sk-label input.sk-toggleable__control:checked~label.sk-toggleable__label {background-color: #d4ebff;}#sk-container-id-2 input.sk-hidden--visually {border: 0;clip: rect(1px 1px 1px 1px);clip: rect(1px, 1px, 1px, 1px);height: 1px;margin: -1px;overflow: hidden;padding: 0;position: absolute;width: 1px;}#sk-container-id-2 div.sk-estimator {font-family: monospace;background-color: #f0f8ff;border: 1px dotted black;border-radius: 0.25em;box-sizing: border-box;margin-bottom: 0.5em;}#sk-container-id-2 div.sk-estimator:hover {background-color: #d4ebff;}#sk-container-id-2 div.sk-parallel-item::after {content: \"\";width: 100%;border-bottom: 1px solid gray;flex-grow: 1;}#sk-container-id-2 div.sk-label:hover label.sk-toggleable__label {background-color: #d4ebff;}#sk-container-id-2 div.sk-serial::before {content: \"\";position: absolute;border-left: 1px solid gray;box-sizing: border-box;top: 0;bottom: 0;left: 50%;z-index: 0;}#sk-container-id-2 div.sk-serial {display: flex;flex-direction: column;align-items: center;background-color: white;padding-right: 0.2em;padding-left: 0.2em;position: relative;}#sk-container-id-2 div.sk-item {position: relative;z-index: 1;}#sk-container-id-2 div.sk-parallel {display: flex;align-items: stretch;justify-content: center;background-color: white;position: relative;}#sk-container-id-2 div.sk-item::before, #sk-container-id-2 div.sk-parallel-item::before {content: \"\";position: absolute;border-left: 1px solid gray;box-sizing: border-box;top: 0;bottom: 0;left: 50%;z-index: -1;}#sk-container-id-2 div.sk-parallel-item {display: flex;flex-direction: column;z-index: 1;position: relative;background-color: white;}#sk-container-id-2 div.sk-parallel-item:first-child::after {align-self: flex-end;width: 50%;}#sk-container-id-2 div.sk-parallel-item:last-child::after {align-self: flex-start;width: 50%;}#sk-container-id-2 div.sk-parallel-item:only-child::after {width: 0;}#sk-container-id-2 div.sk-dashed-wrapped {border: 1px dashed gray;margin: 0 0.4em 0.5em 0.4em;box-sizing: border-box;padding-bottom: 0.4em;background-color: white;}#sk-container-id-2 div.sk-label label {font-family: monospace;font-weight: bold;display: inline-block;line-height: 1.2em;}#sk-container-id-2 div.sk-label-container {text-align: center;}#sk-container-id-2 div.sk-container {/* jupyter's `normalize.less` sets `[hidden] { display: none; }` but bootstrap.min.css set `[hidden] { display: none !important; }` so we also need the `!important` here to be able to override the default hidden behavior on the sphinx rendered scikit-learn.org. See: https://github.com/scikit-learn/scikit-learn/issues/21755 */display: inline-block !important;position: relative;}#sk-container-id-2 div.sk-text-repr-fallback {display: none;}</style><div id=\"sk-container-id-2\" class=\"sk-top-container\"><div class=\"sk-text-repr-fallback\"><pre>DecisionTreeClassifier(criterion=&#x27;entropy&#x27;, max_depth=11, min_samples_leaf=11)</pre><b>In a Jupyter environment, please rerun this cell to show the HTML representation or trust the notebook. <br />On GitHub, the HTML representation is unable to render, please try loading this page with nbviewer.org.</b></div><div class=\"sk-container\" hidden><div class=\"sk-item\"><div class=\"sk-estimator sk-toggleable\"><input class=\"sk-toggleable__control sk-hidden--visually\" id=\"sk-estimator-id-4\" type=\"checkbox\" checked><label for=\"sk-estimator-id-4\" class=\"sk-toggleable__label sk-toggleable__label-arrow\">DecisionTreeClassifier</label><div class=\"sk-toggleable__content\"><pre>DecisionTreeClassifier(criterion=&#x27;entropy&#x27;, max_depth=11, min_samples_leaf=11)</pre></div></div></div></div></div>"
      ],
      "text/plain": [
       "DecisionTreeClassifier(criterion='entropy', max_depth=11, min_samples_leaf=11)"
      ]
     },
     "execution_count": 46,
     "metadata": {},
     "output_type": "execute_result"
    }
   ],
   "source": [
    "grid.best_estimator_"
   ]
  },
  {
   "cell_type": "code",
   "execution_count": 47,
   "id": "5bf79276",
   "metadata": {
    "scrolled": true
   },
   "outputs": [
    {
     "name": "stdout",
     "output_type": "stream",
     "text": [
      "Training Accuracy: 0.8911368015414258\n",
      "Testing Accuracy: 0.8808988764044944\n",
      "[[381  17]\n",
      " [ 89 403]]\n",
      "              precision    recall  f1-score   support\n",
      "\n",
      "           0       0.81      0.96      0.88       398\n",
      "           1       0.96      0.82      0.88       492\n",
      "\n",
      "    accuracy                           0.88       890\n",
      "   macro avg       0.89      0.89      0.88       890\n",
      "weighted avg       0.89      0.88      0.88       890\n",
      "\n"
     ]
    }
   ],
   "source": [
    "dec_tree_2 = mymodel(grid.best_estimator_)"
   ]
  },
  {
   "cell_type": "markdown",
   "id": "902d5c62",
   "metadata": {},
   "source": [
    "# Cross Validation"
   ]
  },
  {
   "cell_type": "code",
   "execution_count": 48,
   "id": "95777f6b",
   "metadata": {},
   "outputs": [
    {
     "name": "stdout",
     "output_type": "stream",
     "text": [
      "Avg Accuracy : 0.8675143793187636\n",
      "STD : 0.05169669317970518\n"
     ]
    }
   ],
   "source": [
    "from sklearn.model_selection import cross_val_score\n",
    "cvs = cross_val_score(dec_tree_2, x,y, cv=5, scoring=\"accuracy\")\n",
    "print(f\"Avg Accuracy : {cvs.mean()}\\nSTD : {cvs.std()}\")"
   ]
  },
  {
   "cell_type": "markdown",
   "id": "1ed5a9e8",
   "metadata": {},
   "source": [
    "# Prediction"
   ]
  },
  {
   "cell_type": "code",
   "execution_count": 49,
   "id": "d1feca68",
   "metadata": {},
   "outputs": [],
   "source": [
    "def PlacedOrNot():\n",
    "    Age = int(input(\"Enter The Age of The Student\"))\n",
    "    Gender = input(\"Enter The Gender of The Student\")\n",
    "    Stream = input(\"Enter The Stream of The Student\")\n",
    "    Internships = int(input(\"Enter The No. of Internship\"))\n",
    "    CGPA = int(input(\"Enter The CGPA\"))\n",
    "    Hostel = int(input(\"Enter The Hostel Detail\"))\n",
    "    HistoryOfBacklogs = int(input(\"Enter The Kt Detail\"))\n",
    "    \n",
    "    newOb = [Age, Gender, Stream, Internships, CGPA, Hostel, HistoryOfBacklogs]\n",
    "    newOb[1], newOb[2] = oe.transform([[newOb[1], newOb[2]]])[0]\n",
    "    Std_Data = sc.transform([newOb])\n",
    "    ypred = dec_tree_2.predict(Std_Data)[0]\n",
    "    \n",
    "    if ypred==1:\n",
    "        print(\"Yes, Student will place\")\n",
    "    else:\n",
    "        print(\"No, Student will not place\")\n",
    "    \n",
    "    return ypred"
   ]
  },
  {
   "cell_type": "code",
   "execution_count": null,
   "id": "12d07709",
   "metadata": {},
   "outputs": [
    {
     "name": "stdout",
     "output_type": "stream",
     "text": [
      "Enter The Age of The Student24\n",
      "Enter The Gender of The StudentMale\n"
     ]
    }
   ],
   "source": [
    "PlacedOrNot()"
   ]
  },
  {
   "cell_type": "markdown",
   "id": "83b3c16b",
   "metadata": {},
   "source": [
    "* Decision Tree Classifier shows good F1 Score & Accuracy Score with low bias and low variance after hyperparameter tuning."
   ]
  }
 ],
 "metadata": {
  "kernelspec": {
   "display_name": "Python 3 (ipykernel)",
   "language": "python",
   "name": "python3"
  },
  "language_info": {
   "codemirror_mode": {
    "name": "ipython",
    "version": 3
   },
   "file_extension": ".py",
   "mimetype": "text/x-python",
   "name": "python",
   "nbconvert_exporter": "python",
   "pygments_lexer": "ipython3",
   "version": "3.9.7"
  }
 },
 "nbformat": 4,
 "nbformat_minor": 5
}
